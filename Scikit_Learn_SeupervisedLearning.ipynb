{
  "nbformat": 4,
  "nbformat_minor": 0,
  "metadata": {
    "colab": {
      "provenance": [],
      "authorship_tag": "ABX9TyN3SpRxkIiPSV1kw537yp7K",
      "include_colab_link": true
    },
    "kernelspec": {
      "name": "python3",
      "display_name": "Python 3"
    },
    "language_info": {
      "name": "python"
    }
  },
  "cells": [
    {
      "cell_type": "markdown",
      "metadata": {
        "id": "view-in-github",
        "colab_type": "text"
      },
      "source": [
        "<a href=\"https://colab.research.google.com/github/SeungHyunKee/Python/blob/main/Scikit_Learn_SeupervisedLearning.ipynb\" target=\"_parent\"><img src=\"https://colab.research.google.com/assets/colab-badge.svg\" alt=\"Open In Colab\"/></a>"
      ]
    },
    {
      "cell_type": "code",
      "execution_count": 3,
      "metadata": {
        "id": "7UaTIApv7YvS"
      },
      "outputs": [],
      "source": [
        "# 자주 사용할 패키지들은 한번에, 미리 import 해두기\n",
        "\n",
        "import numpy as np\n",
        "import pandas as pd\n",
        "import sklearn\n",
        "import matplotlib.pyplot as plt\n",
        "\n",
        "import warnings \n",
        "warnings.filterwarnings('ignore') # 문제가되지않는 일반적인 경고는 무시한다"
      ]
    },
    {
      "cell_type": "code",
      "source": [
        "# 사용할 필요한 데이터 데려옴 (보스턴집값데이터 사용)\n",
        "from sklearn.datasets import load_boston\n",
        "boston = load_boston()"
      ],
      "metadata": {
        "id": "N9NniVK69Bd5"
      },
      "execution_count": 4,
      "outputs": []
    },
    {
      "cell_type": "code",
      "source": [
        "print(boston['DESCR'])"
      ],
      "metadata": {
        "colab": {
          "base_uri": "https://localhost:8080/"
        },
        "id": "Nq0u4sOO9gaD",
        "outputId": "a1f99912-1509-4c4e-fc6f-3e0a9f2373f4"
      },
      "execution_count": 5,
      "outputs": [
        {
          "output_type": "stream",
          "name": "stdout",
          "text": [
            ".. _boston_dataset:\n",
            "\n",
            "Boston house prices dataset\n",
            "---------------------------\n",
            "\n",
            "**Data Set Characteristics:**  \n",
            "\n",
            "    :Number of Instances: 506 \n",
            "\n",
            "    :Number of Attributes: 13 numeric/categorical predictive. Median Value (attribute 14) is usually the target.\n",
            "\n",
            "    :Attribute Information (in order):\n",
            "        - CRIM     per capita crime rate by town\n",
            "        - ZN       proportion of residential land zoned for lots over 25,000 sq.ft.\n",
            "        - INDUS    proportion of non-retail business acres per town\n",
            "        - CHAS     Charles River dummy variable (= 1 if tract bounds river; 0 otherwise)\n",
            "        - NOX      nitric oxides concentration (parts per 10 million)\n",
            "        - RM       average number of rooms per dwelling\n",
            "        - AGE      proportion of owner-occupied units built prior to 1940\n",
            "        - DIS      weighted distances to five Boston employment centres\n",
            "        - RAD      index of accessibility to radial highways\n",
            "        - TAX      full-value property-tax rate per $10,000\n",
            "        - PTRATIO  pupil-teacher ratio by town\n",
            "        - B        1000(Bk - 0.63)^2 where Bk is the proportion of black people by town\n",
            "        - LSTAT    % lower status of the population\n",
            "        - MEDV     Median value of owner-occupied homes in $1000's\n",
            "\n",
            "    :Missing Attribute Values: None\n",
            "\n",
            "    :Creator: Harrison, D. and Rubinfeld, D.L.\n",
            "\n",
            "This is a copy of UCI ML housing dataset.\n",
            "https://archive.ics.uci.edu/ml/machine-learning-databases/housing/\n",
            "\n",
            "\n",
            "This dataset was taken from the StatLib library which is maintained at Carnegie Mellon University.\n",
            "\n",
            "The Boston house-price data of Harrison, D. and Rubinfeld, D.L. 'Hedonic\n",
            "prices and the demand for clean air', J. Environ. Economics & Management,\n",
            "vol.5, 81-102, 1978.   Used in Belsley, Kuh & Welsch, 'Regression diagnostics\n",
            "...', Wiley, 1980.   N.B. Various transformations are used in the table on\n",
            "pages 244-261 of the latter.\n",
            "\n",
            "The Boston house-price data has been used in many machine learning papers that address regression\n",
            "problems.   \n",
            "     \n",
            ".. topic:: References\n",
            "\n",
            "   - Belsley, Kuh & Welsch, 'Regression diagnostics: Identifying Influential Data and Sources of Collinearity', Wiley, 1980. 244-261.\n",
            "   - Quinlan,R. (1993). Combining Instance-Based and Model-Based Learning. In Proceedings on the Tenth International Conference of Machine Learning, 236-243, University of Massachusetts, Amherst. Morgan Kaufmann.\n",
            "\n"
          ]
        }
      ]
    },
    {
      "cell_type": "code",
      "source": [
        "# 필요한 데이터 발라놓기(가져오기)\n",
        "\n",
        "data = boston.data  # data = boston['data'] 와 같은 의미임\n",
        "label = boston.target\n",
        "columns = boston.feature_names"
      ],
      "metadata": {
        "id": "DtoF6ymf-Fmr"
      },
      "execution_count": 6,
      "outputs": []
    },
    {
      "cell_type": "code",
      "source": [
        "data = pd.DataFrame(data, columns=columns)\n",
        "data.head() "
      ],
      "metadata": {
        "colab": {
          "base_uri": "https://localhost:8080/",
          "height": 206
        },
        "id": "sOaRZRZu-q8_",
        "outputId": "3bce3dc6-5c8f-465f-ff90-ea5aaec439d5"
      },
      "execution_count": 8,
      "outputs": [
        {
          "output_type": "execute_result",
          "data": {
            "text/plain": [
              "      CRIM    ZN  INDUS  CHAS    NOX     RM   AGE     DIS  RAD    TAX  \\\n",
              "0  0.00632  18.0   2.31   0.0  0.538  6.575  65.2  4.0900  1.0  296.0   \n",
              "1  0.02731   0.0   7.07   0.0  0.469  6.421  78.9  4.9671  2.0  242.0   \n",
              "2  0.02729   0.0   7.07   0.0  0.469  7.185  61.1  4.9671  2.0  242.0   \n",
              "3  0.03237   0.0   2.18   0.0  0.458  6.998  45.8  6.0622  3.0  222.0   \n",
              "4  0.06905   0.0   2.18   0.0  0.458  7.147  54.2  6.0622  3.0  222.0   \n",
              "\n",
              "   PTRATIO       B  LSTAT  \n",
              "0     15.3  396.90   4.98  \n",
              "1     17.8  396.90   9.14  \n",
              "2     17.8  392.83   4.03  \n",
              "3     18.7  394.63   2.94  \n",
              "4     18.7  396.90   5.33  "
            ],
            "text/html": [
              "\n",
              "  <div id=\"df-11e0b90e-3dd8-41a7-9e95-01dbd1388127\">\n",
              "    <div class=\"colab-df-container\">\n",
              "      <div>\n",
              "<style scoped>\n",
              "    .dataframe tbody tr th:only-of-type {\n",
              "        vertical-align: middle;\n",
              "    }\n",
              "\n",
              "    .dataframe tbody tr th {\n",
              "        vertical-align: top;\n",
              "    }\n",
              "\n",
              "    .dataframe thead th {\n",
              "        text-align: right;\n",
              "    }\n",
              "</style>\n",
              "<table border=\"1\" class=\"dataframe\">\n",
              "  <thead>\n",
              "    <tr style=\"text-align: right;\">\n",
              "      <th></th>\n",
              "      <th>CRIM</th>\n",
              "      <th>ZN</th>\n",
              "      <th>INDUS</th>\n",
              "      <th>CHAS</th>\n",
              "      <th>NOX</th>\n",
              "      <th>RM</th>\n",
              "      <th>AGE</th>\n",
              "      <th>DIS</th>\n",
              "      <th>RAD</th>\n",
              "      <th>TAX</th>\n",
              "      <th>PTRATIO</th>\n",
              "      <th>B</th>\n",
              "      <th>LSTAT</th>\n",
              "    </tr>\n",
              "  </thead>\n",
              "  <tbody>\n",
              "    <tr>\n",
              "      <th>0</th>\n",
              "      <td>0.00632</td>\n",
              "      <td>18.0</td>\n",
              "      <td>2.31</td>\n",
              "      <td>0.0</td>\n",
              "      <td>0.538</td>\n",
              "      <td>6.575</td>\n",
              "      <td>65.2</td>\n",
              "      <td>4.0900</td>\n",
              "      <td>1.0</td>\n",
              "      <td>296.0</td>\n",
              "      <td>15.3</td>\n",
              "      <td>396.90</td>\n",
              "      <td>4.98</td>\n",
              "    </tr>\n",
              "    <tr>\n",
              "      <th>1</th>\n",
              "      <td>0.02731</td>\n",
              "      <td>0.0</td>\n",
              "      <td>7.07</td>\n",
              "      <td>0.0</td>\n",
              "      <td>0.469</td>\n",
              "      <td>6.421</td>\n",
              "      <td>78.9</td>\n",
              "      <td>4.9671</td>\n",
              "      <td>2.0</td>\n",
              "      <td>242.0</td>\n",
              "      <td>17.8</td>\n",
              "      <td>396.90</td>\n",
              "      <td>9.14</td>\n",
              "    </tr>\n",
              "    <tr>\n",
              "      <th>2</th>\n",
              "      <td>0.02729</td>\n",
              "      <td>0.0</td>\n",
              "      <td>7.07</td>\n",
              "      <td>0.0</td>\n",
              "      <td>0.469</td>\n",
              "      <td>7.185</td>\n",
              "      <td>61.1</td>\n",
              "      <td>4.9671</td>\n",
              "      <td>2.0</td>\n",
              "      <td>242.0</td>\n",
              "      <td>17.8</td>\n",
              "      <td>392.83</td>\n",
              "      <td>4.03</td>\n",
              "    </tr>\n",
              "    <tr>\n",
              "      <th>3</th>\n",
              "      <td>0.03237</td>\n",
              "      <td>0.0</td>\n",
              "      <td>2.18</td>\n",
              "      <td>0.0</td>\n",
              "      <td>0.458</td>\n",
              "      <td>6.998</td>\n",
              "      <td>45.8</td>\n",
              "      <td>6.0622</td>\n",
              "      <td>3.0</td>\n",
              "      <td>222.0</td>\n",
              "      <td>18.7</td>\n",
              "      <td>394.63</td>\n",
              "      <td>2.94</td>\n",
              "    </tr>\n",
              "    <tr>\n",
              "      <th>4</th>\n",
              "      <td>0.06905</td>\n",
              "      <td>0.0</td>\n",
              "      <td>2.18</td>\n",
              "      <td>0.0</td>\n",
              "      <td>0.458</td>\n",
              "      <td>7.147</td>\n",
              "      <td>54.2</td>\n",
              "      <td>6.0622</td>\n",
              "      <td>3.0</td>\n",
              "      <td>222.0</td>\n",
              "      <td>18.7</td>\n",
              "      <td>396.90</td>\n",
              "      <td>5.33</td>\n",
              "    </tr>\n",
              "  </tbody>\n",
              "</table>\n",
              "</div>\n",
              "      <button class=\"colab-df-convert\" onclick=\"convertToInteractive('df-11e0b90e-3dd8-41a7-9e95-01dbd1388127')\"\n",
              "              title=\"Convert this dataframe to an interactive table.\"\n",
              "              style=\"display:none;\">\n",
              "        \n",
              "  <svg xmlns=\"http://www.w3.org/2000/svg\" height=\"24px\"viewBox=\"0 0 24 24\"\n",
              "       width=\"24px\">\n",
              "    <path d=\"M0 0h24v24H0V0z\" fill=\"none\"/>\n",
              "    <path d=\"M18.56 5.44l.94 2.06.94-2.06 2.06-.94-2.06-.94-.94-2.06-.94 2.06-2.06.94zm-11 1L8.5 8.5l.94-2.06 2.06-.94-2.06-.94L8.5 2.5l-.94 2.06-2.06.94zm10 10l.94 2.06.94-2.06 2.06-.94-2.06-.94-.94-2.06-.94 2.06-2.06.94z\"/><path d=\"M17.41 7.96l-1.37-1.37c-.4-.4-.92-.59-1.43-.59-.52 0-1.04.2-1.43.59L10.3 9.45l-7.72 7.72c-.78.78-.78 2.05 0 2.83L4 21.41c.39.39.9.59 1.41.59.51 0 1.02-.2 1.41-.59l7.78-7.78 2.81-2.81c.8-.78.8-2.07 0-2.86zM5.41 20L4 18.59l7.72-7.72 1.47 1.35L5.41 20z\"/>\n",
              "  </svg>\n",
              "      </button>\n",
              "      \n",
              "  <style>\n",
              "    .colab-df-container {\n",
              "      display:flex;\n",
              "      flex-wrap:wrap;\n",
              "      gap: 12px;\n",
              "    }\n",
              "\n",
              "    .colab-df-convert {\n",
              "      background-color: #E8F0FE;\n",
              "      border: none;\n",
              "      border-radius: 50%;\n",
              "      cursor: pointer;\n",
              "      display: none;\n",
              "      fill: #1967D2;\n",
              "      height: 32px;\n",
              "      padding: 0 0 0 0;\n",
              "      width: 32px;\n",
              "    }\n",
              "\n",
              "    .colab-df-convert:hover {\n",
              "      background-color: #E2EBFA;\n",
              "      box-shadow: 0px 1px 2px rgba(60, 64, 67, 0.3), 0px 1px 3px 1px rgba(60, 64, 67, 0.15);\n",
              "      fill: #174EA6;\n",
              "    }\n",
              "\n",
              "    [theme=dark] .colab-df-convert {\n",
              "      background-color: #3B4455;\n",
              "      fill: #D2E3FC;\n",
              "    }\n",
              "\n",
              "    [theme=dark] .colab-df-convert:hover {\n",
              "      background-color: #434B5C;\n",
              "      box-shadow: 0px 1px 3px 1px rgba(0, 0, 0, 0.15);\n",
              "      filter: drop-shadow(0px 1px 2px rgba(0, 0, 0, 0.3));\n",
              "      fill: #FFFFFF;\n",
              "    }\n",
              "  </style>\n",
              "\n",
              "      <script>\n",
              "        const buttonEl =\n",
              "          document.querySelector('#df-11e0b90e-3dd8-41a7-9e95-01dbd1388127 button.colab-df-convert');\n",
              "        buttonEl.style.display =\n",
              "          google.colab.kernel.accessAllowed ? 'block' : 'none';\n",
              "\n",
              "        async function convertToInteractive(key) {\n",
              "          const element = document.querySelector('#df-11e0b90e-3dd8-41a7-9e95-01dbd1388127');\n",
              "          const dataTable =\n",
              "            await google.colab.kernel.invokeFunction('convertToInteractive',\n",
              "                                                     [key], {});\n",
              "          if (!dataTable) return;\n",
              "\n",
              "          const docLinkHtml = 'Like what you see? Visit the ' +\n",
              "            '<a target=\"_blank\" href=https://colab.research.google.com/notebooks/data_table.ipynb>data table notebook</a>'\n",
              "            + ' to learn more about interactive tables.';\n",
              "          element.innerHTML = '';\n",
              "          dataTable['output_type'] = 'display_data';\n",
              "          await google.colab.output.renderOutput(dataTable, element);\n",
              "          const docLink = document.createElement('div');\n",
              "          docLink.innerHTML = docLinkHtml;\n",
              "          element.appendChild(docLink);\n",
              "        }\n",
              "      </script>\n",
              "    </div>\n",
              "  </div>\n",
              "  "
            ]
          },
          "metadata": {},
          "execution_count": 8
        }
      ]
    },
    {
      "cell_type": "code",
      "source": [
        "data.shape # (506, 13) : 전체데이터는 506개, columns는 13개"
      ],
      "metadata": {
        "colab": {
          "base_uri": "https://localhost:8080/"
        },
        "id": "aIZ2lH3_-ue5",
        "outputId": "5221df6d-a077-43bb-b27c-039061720e90"
      },
      "execution_count": 9,
      "outputs": [
        {
          "output_type": "execute_result",
          "data": {
            "text/plain": [
              "(506, 13)"
            ]
          },
          "metadata": {},
          "execution_count": 9
        }
      ]
    },
    {
      "cell_type": "code",
      "source": [
        "# Simple Linear Regression\n",
        "from sklearn.model_selection import train_test_split\n",
        "X_train, X_test, y_train, y_test = train_test_split(data, label, test_size=0.2, random_state= 2022) # 20%만 사용하겠다"
      ],
      "metadata": {
        "id": "VLgSzB6S_FFr"
      },
      "execution_count": 10,
      "outputs": []
    },
    {
      "cell_type": "markdown",
      "source": [
        "# Sickit Learn은 데이터가 2차원이어야 한다. \n",
        "#  [10,20,30] = (1,)\n",
        "#  [[10],\n",
        "#   [20],     = (3,1)  \n",
        "#   [30]]"
      ],
      "metadata": {
        "id": "vN4UbavLFLue"
      }
    },
    {
      "cell_type": "code",
      "source": [
        "# X_train['RM']   # 이 전체중에서 집값인 RM값만 이용하겠다\n",
        "X_train['RM'].values.reshape(-1,1)[:5] \n",
        "\n",
        "# .reshape(-1,1) = 범위를 이렇게 설정해야 처음값부터 시작하고, 마지막 으로 돌아가서 시작?됨\n",
        "#데이터의 차원을 바꿔주겠다 : (506,1)=변수506개이고, column은 1개"
      ],
      "metadata": {
        "colab": {
          "base_uri": "https://localhost:8080/"
        },
        "id": "OCFmPEfwDYOb",
        "outputId": "4e6b6553-f7d6-4d18-e4a2-4eb79d2aab49"
      },
      "execution_count": 14,
      "outputs": [
        {
          "output_type": "execute_result",
          "data": {
            "text/plain": [
              "array([[7.454],\n",
              "       [6.315],\n",
              "       [6.382],\n",
              "       [5.942],\n",
              "       [8.247]])"
            ]
          },
          "metadata": {},
          "execution_count": 14
        }
      ]
    },
    {
      "cell_type": "code",
      "source": [
        "from sklearn.linear_model import LinearRegression\n",
        "sim_lr = LinearRegression()"
      ],
      "metadata": {
        "id": "Lh-6z5vcDZux"
      },
      "execution_count": 15,
      "outputs": []
    },
    {
      "cell_type": "code",
      "source": [
        "# 훈련시키기\n",
        " # 방의개수\"RM\" 과 label 값을 학습시킴\n",
        "\n",
        "sim_lr.fit(X_train['RM'].values.reshape((-1,1)), y_train)"
      ],
      "metadata": {
        "colab": {
          "base_uri": "https://localhost:8080/"
        },
        "id": "z7x9tLvLGBjT",
        "outputId": "c131ad5f-8b0c-45f5-bc6e-0bdbb6f3e80d"
      },
      "execution_count": 17,
      "outputs": [
        {
          "output_type": "execute_result",
          "data": {
            "text/plain": [
              "LinearRegression()"
            ]
          },
          "metadata": {},
          "execution_count": 17
        }
      ]
    },
    {
      "cell_type": "code",
      "source": [
        "# 룸의갯수로 예측\n",
        "\n",
        "y_pred = sim_lr.predict(X_test['RM'].values.reshape(-1,1))"
      ],
      "metadata": {
        "id": "3tKFZuJ3GigD"
      },
      "execution_count": 23,
      "outputs": []
    },
    {
      "cell_type": "code",
      "source": [
        "# 결과 살펴보기\n",
        "from sklearn.metrics import r2_score     # r2_score패키지 불러와서 R2값 별다른 코딩없이 알수있음\n",
        "print('단순 선형 회귀, R2: {:.4f}'.format(r2_score(y_test, y_pred)))\n",
        "\n",
        "#f=float, 실수형으로, :.4f= 전체의 실수 중 소수점 넷째자리까지\n",
        "# r2_score(y_test, y_pred)에서 (y_test, y_pred)가 score에 영향미친다.(0.21)은 매우 형편없는 수치임"
      ],
      "metadata": {
        "colab": {
          "base_uri": "https://localhost:8080/"
        },
        "id": "uc2q6HzuHXkd",
        "outputId": "a4388f2c-3e6a-433b-992c-19fb57e1998a"
      },
      "execution_count": 24,
      "outputs": [
        {
          "output_type": "stream",
          "name": "stdout",
          "text": [
            "단순 선형 회귀, R2: 0.2121\n"
          ]
        }
      ]
    },
    {
      "cell_type": "code",
      "source": [
        "# 결과 시각화하기 :  matplotlib 사용\n",
        "\n",
        "# x축은 방의갯수, y축은 값price\n",
        "# 원래 전체 방 갯수(x_Test['RM'])보다 조금더 여유를 줌\n",
        "\n",
        "line_x = np.linspace(min(X_test['RM']), np.max(X_test['RM']), 10) # 방의개수가 젤 적은것부터 젤 많은것까지의 좌표계가 생성됨, 점의개수는 10개 \n",
        "line_y = sim_lr.predict(line_x.reshape(-1,1))   # 방의개수에대해 예측한결과가 y에 들어감\n",
        "\n",
        "plt.scatter(X_test['RM'], y_test, s=10, c='black')  # 이 점들은 black으로 직음\n",
        "plt.plot(line_x, line_y, c='red')                   # plot이니 선을 그음, 빨간색으로\n",
        "plt.legend(['Regression line','Test data sample'], loc = 'upper left')  # 빨간색선 기준으로 점들 더 흩어져있을수록 에러\n",
        "\n",
        "# 결과값보면 거의 예측이 안되는걸 볼수있음"
      ],
      "metadata": {
        "colab": {
          "base_uri": "https://localhost:8080/",
          "height": 283
        },
        "id": "JTEu82n7H0v2",
        "outputId": "43d72d3a-6094-4a29-c2f6-dfdfba331f8c"
      },
      "execution_count": 27,
      "outputs": [
        {
          "output_type": "execute_result",
          "data": {
            "text/plain": [
              "<matplotlib.legend.Legend at 0x7fc620ca7990>"
            ]
          },
          "metadata": {},
          "execution_count": 27
        },
        {
          "output_type": "display_data",
          "data": {
            "text/plain": [
              "<Figure size 432x288 with 1 Axes>"
            ],
            "image/png": "[encoded data removed]"
          },
          "metadata": {
            "needs_background": "light"
          }
        }
      ]
    },
    {
      "cell_type": "code",
      "source": [
        "# Multiple Linear Regression\n",
        "mul_lr = LinearRegression()\n",
        "\n",
        "# 모델을 학습시킴\n",
        "mul_lr.fit(X_train, y_train)  # X_train, y_train => 전체column값 다 적용"
      ],
      "metadata": {
        "colab": {
          "base_uri": "https://localhost:8080/"
        },
        "id": "dkZ6hWQ2K5C0",
        "outputId": "679501ad-a33a-481c-9136-c6d2f994019b"
      },
      "execution_count": 28,
      "outputs": [
        {
          "output_type": "execute_result",
          "data": {
            "text/plain": [
              "LinearRegression()"
            ]
          },
          "metadata": {},
          "execution_count": 28
        }
      ]
    },
    {
      "cell_type": "code",
      "source": [
        "y_pred = mul_lr.predict(X_test)"
      ],
      "metadata": {
        "id": "bQ9wucQNMfFX"
      },
      "execution_count": 33,
      "outputs": []
    },
    {
      "cell_type": "code",
      "source": [
        "print('다중 선형 회귀, R2: {:.4f}'.format(r2_score(y_test, y_pred)))\n",
        "# 결과 : 0.6226으로 앞선 모델보다 정확도는 3배이지만, 여전히 부족하다"
      ],
      "metadata": {
        "colab": {
          "base_uri": "https://localhost:8080/"
        },
        "id": "_EtkGrMEMnw5",
        "outputId": "109b08cc-5bda-4eae-a2c8-a5aa5d22e623"
      },
      "execution_count": 34,
      "outputs": [
        {
          "output_type": "stream",
          "name": "stdout",
          "text": [
            "다중 선형 회귀, R2: 0.6226\n"
          ]
        }
      ]
    },
    {
      "cell_type": "code",
      "source": [
        "# Decision Tree Regressor\n",
        "from sklearn.tree import DecisionTreeRegressor\n",
        "dt_regr = DecisionTreeRegressor(max_depth = 10)   # max_depth=5 : 몇번째까지 tree 내려갈것인가 결정\n"
      ],
      "metadata": {
        "id": "EG84gsT3M5O-"
      },
      "execution_count": 40,
      "outputs": []
    },
    {
      "cell_type": "code",
      "source": [
        "# 학습시킴\n",
        "dt_regr.fit(X_train['RM'].values.reshape((-1,1)), y_train) # 학습시켜서 이차원배열로 가져와서, y_train으로 학습시킴"
      ],
      "metadata": {
        "colab": {
          "base_uri": "https://localhost:8080/"
        },
        "id": "9JbgyTPlT5do",
        "outputId": "e5aad25c-e7f6-46c5-856a-a50aecc87645"
      },
      "execution_count": 41,
      "outputs": [
        {
          "output_type": "execute_result",
          "data": {
            "text/plain": [
              "DecisionTreeRegressor(max_depth=10)"
            ]
          },
          "metadata": {},
          "execution_count": 41
        }
      ]
    },
    {
      "cell_type": "code",
      "source": [
        "# 예측하기\n",
        "y_pred = dt_regr.predict(X_test['RM'].values.reshape(-1,1))"
      ],
      "metadata": {
        "id": "e4tzTiX2UOvT"
      },
      "execution_count": 42,
      "outputs": []
    },
    {
      "cell_type": "code",
      "source": [
        "# 결과\n",
        "print('단순 결정 트리 회귀 R2: {:4f}'.format(r2_score(y_test, y_pred)))\n",
        "\n",
        "# 결과값 = linear agression 보다는 조금 높음(max_depth의 값을 증가시키면 결과값은 더 작아짐(낮아짐))\n",
        "# 값이 이렇게 왔다갔다 튀는 이유 : Decision Tree(의사결정트리) ///\n",
        "# depth가 높다는것은 학습데이터와 1:1 로 매치된다는것임. test데이터와는 따로놀아(안맞음). 이증상을 overfitting이라고 함"
      ],
      "metadata": {
        "colab": {
          "base_uri": "https://localhost:8080/"
        },
        "id": "myNb8qVGVLZu",
        "outputId": "21353368-b916-4030-f831-be0412b5a082"
      },
      "execution_count": 43,
      "outputs": [
        {
          "output_type": "stream",
          "name": "stdout",
          "text": [
            "단순 결정 트리 회귀 R2: 0.257860\n"
          ]
        }
      ]
    },
    {
      "cell_type": "code",
      "source": [
        "arr = np.arange(1,11)\n",
        "arr"
      ],
      "metadata": {
        "colab": {
          "base_uri": "https://localhost:8080/"
        },
        "id": "J8avycbaVX4Q",
        "outputId": "6651b9a0-34c3-4f59-9cf4-5c9e79c29ee3"
      },
      "execution_count": 48,
      "outputs": [
        {
          "output_type": "execute_result",
          "data": {
            "text/plain": [
              "array([ 1,  2,  3,  4,  5,  6,  7,  8,  9, 10])"
            ]
          },
          "metadata": {},
          "execution_count": 48
        }
      ]
    },
    {
      "cell_type": "code",
      "source": [
        "best_depth = 0\n",
        "best_r2 = 0\n",
        "\n",
        "# 1부터 10까지 반복하는 반복문 만들어서 depth값에 따른 R2값 비교 \n",
        "\n",
        "for depth in arr:  \n",
        "  dt_regr = DecisionTreeRegressor(max_depth = depth)\n",
        "  dt_regr.fit(X_train['RM'].values.reshape((-1,1)), y_train)\n",
        "  y_pred = dt_regr.predict(X_test['RM'].values.reshape(-1,1))\n",
        "\n",
        "  temp_r2 = r2_score(y_test, y_pred)\n",
        "  # print('\\n단순 결정 트리 회귀 depth={} R2: {:4f}'.format(depth, temp_r2))\n",
        "\n",
        "  if best_r2 < temp_r2:\n",
        "    best_depth = depth\n",
        "    best_r2 = temp_r2\n",
        "\n",
        "print('최적의 결과는 depth={} r2={:.4f}'.format(best_depth, best_r2))"
      ],
      "metadata": {
        "colab": {
          "base_uri": "https://localhost:8080/"
        },
        "id": "Q86OQoc7WzMI",
        "outputId": "288e8dbc-f989-48a5-ea36-14517b0a6687"
      },
      "execution_count": 52,
      "outputs": [
        {
          "output_type": "stream",
          "name": "stdout",
          "text": [
            "최적의 결과는 depth=3 r2=0.3931\n"
          ]
        }
      ]
    },
    {
      "cell_type": "code",
      "source": [
        "# 위의 코드는 'RM' 하나만 사용했지만, 아래부터는 전부 사용하는걸로 작성\n",
        "\n",
        "dt_regr = DecisionTreeRegressor(max_depth=8)   # 데이터가 조금더 많으면 더 세세하므로, max_depth값 좀더 올려도 정확도 높게 나올수있음\n",
        "dt_regr.fit(X_train, y_train)\n",
        "\n",
        "y_pred = dt_regr.predict(X_test)\n",
        "print('다중 결정 트리 R2: {:.4f}'.format(r2_score(y_test, y_pred)))"
      ],
      "metadata": {
        "colab": {
          "base_uri": "https://localhost:8080/"
        },
        "id": "MfbxszdWZb3H",
        "outputId": "0377d98d-11bb-450e-abfc-5998351c962d"
      },
      "execution_count": 51,
      "outputs": [
        {
          "output_type": "stream",
          "name": "stdout",
          "text": [
            "다중 결정 트리 R2: 0.7070\n"
          ]
        }
      ]
    },
    {
      "cell_type": "code",
      "source": [
        "# Support Vector Machine Regressor\n",
        "from sklearn.svm import SVR\n",
        "svm_regr = SVR(C=2)\n",
        "\n",
        "svm_regr.fit(X_train['RM'].values.reshape(-1,1), y_train)\n",
        "y_pred = svm_regr.predict(X_test['RM'].values.reshape(-1,1)) # 예측하기\n",
        "\n",
        "# 결과 프린트\n",
        "print('단순 서포트 벡터 머신 회귀 R2: {:.4f}'.format(r2_score(y_test, y_pred)))"
      ],
      "metadata": {
        "colab": {
          "base_uri": "https://localhost:8080/"
        },
        "id": "1N_yrtmzaA_R",
        "outputId": "e5be4a5d-a1d5-4d08-e50a-bb4a6f67bbad"
      },
      "execution_count": 53,
      "outputs": [
        {
          "output_type": "stream",
          "name": "stdout",
          "text": [
            "단순 서포트 벡터 머신 회귀 R2: 0.3763\n"
          ]
        }
      ]
    },
    {
      "cell_type": "code",
      "source": [
        "# 결과의 시각화\n",
        "line_x = np.linspace(np.min(X_test['RM']), np.max(X_test['RM']), 100)  #x축에대한 데이터 만들기\n",
        "line_y = svm_regr.predict(line_x.reshape(-1,1))  # y축에대한 데이터 만들기\n",
        "\n",
        "plt.scatter(X_test['RM'], y_test, c='black')\n",
        "plt.plot(line_x, line_y, c='red')\n",
        "plt.legend(['Regression line', 'Test data sample'], loc = 'upper left')\n"
      ],
      "metadata": {
        "colab": {
          "base_uri": "https://localhost:8080/",
          "height": 283
        },
        "id": "9RTJ-wuSj9Vv",
        "outputId": "30092d17-78fa-47ee-e51d-28770d58c7b0"
      },
      "execution_count": 55,
      "outputs": [
        {
          "output_type": "execute_result",
          "data": {
            "text/plain": [
              "<matplotlib.legend.Legend at 0x7fc620106990>"
            ]
          },
          "metadata": {},
          "execution_count": 55
        },
        {
          "output_type": "display_data",
          "data": {
            "text/plain": [
              "<Figure size 432x288 with 1 Axes>"
            ],
            "image/png": "[encoded data removed]"
          },
          "metadata": {
            "needs_background": "light"
          }
        }
      ]
    },
    {
      "cell_type": "code",
      "source": [
        "svm_regr = SVR(C=20)\n",
        "svm_regr.fit(X_train, y_train)\n",
        "y_pred = svm_regr.predict(X_test)\n",
        "print('다중 서포트 벡터 머신 회귀, R2 : {:.4f}'.format(r2_score(y_test, y_pred)))\n",
        "\n",
        "\n",
        "# 위의코드 참조해서 최적의 c값 찾기 : for문 이용!"
      ],
      "metadata": {
        "colab": {
          "base_uri": "https://localhost:8080/"
        },
        "id": "EQnEFw_FnRi1",
        "outputId": "9c5e4e81-c720-464b-8c36-4678bdd762b1"
      },
      "execution_count": 57,
      "outputs": [
        {
          "output_type": "stream",
          "name": "stdout",
          "text": [
            "다중 서포트 벡터 머신 회귀, R2 : 0.4234\n"
          ]
        }
      ]
    },
    {
      "cell_type": "code",
      "source": [],
      "metadata": {
        "id": "rYNYwcQ1nqrI"
      },
      "execution_count": null,
      "outputs": []
    }
  ]
}