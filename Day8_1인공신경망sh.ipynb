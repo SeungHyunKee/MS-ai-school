{
  "nbformat": 4,
  "nbformat_minor": 0,
  "metadata": {
    "colab": {
      "provenance": [],
      "mount_file_id": "15wIzGn-VVt3rqdkegb06Ey_QA5YDseNs",
      "authorship_tag": "ABX9TyPLY6gRXomI+rz26YeruNxE",
      "include_colab_link": true
    },
    "kernelspec": {
      "name": "python3",
      "display_name": "Python 3"
    },
    "language_info": {
      "name": "python"
    }
  },
  "cells": [
    {
      "cell_type": "markdown",
      "metadata": {
        "id": "view-in-github",
        "colab_type": "text"
      },
      "source": [
        "<a href=\"https://colab.research.google.com/github/SeungHyunKee/MS-ai-school/blob/main/Day8_1%EC%9D%B8%EA%B3%B5%EC%8B%A0%EA%B2%BD%EB%A7%9Dsh.ipynb\" target=\"_parent\"><img src=\"https://colab.research.google.com/assets/colab-badge.svg\" alt=\"Open In Colab\"/></a>"
      ]
    },
    {
      "cell_type": "markdown",
      "source": [
        "# 인공신경망\n",
        "실제 인간의 뇌에서 수행되는 신경망 방식을 사용한 컴퓨터 연산 방법   \n",
        "실제 뇌에서 뉴런간 정보 전달 방식을 모델링한 것"
      ],
      "metadata": {
        "id": "viBj-fQVH41K"
      }
    },
    {
      "cell_type": "markdown",
      "source": [
        "## 퍼셉트론\n",
        "신경망의 한 종류   \n",
        "\n",
        "입력값 X 를 가중치와 곱해서 모두 더한 값이 임계값 기준이 있는 노드"
      ],
      "metadata": {
        "id": "MKNY9lF_H8hK"
      }
    },
    {
      "cell_type": "code",
      "execution_count": 4,
      "metadata": {
        "id": "PUmLprX1HFHD"
      },
      "outputs": [],
      "source": [
        "import pandas as pd\n",
        "data = pd.read_csv('data.csv')"
      ]
    },
    {
      "cell_type": "code",
      "source": [
        "data"
      ],
      "metadata": {
        "colab": {
          "base_uri": "https://localhost:8080/",
          "height": 424
        },
        "id": "3qvbwc0uICQk",
        "outputId": "0faff09d-12e1-4743-e7f9-8fba10f9e358"
      },
      "execution_count": 5,
      "outputs": [
        {
          "output_type": "execute_result",
          "data": {
            "text/plain": [
              "        x1     x2      y\n",
              "0     True   True  False\n",
              "1     True  False   True\n",
              "2     True  False   True\n",
              "3     True   True  False\n",
              "4     True   True  False\n",
              "..     ...    ...    ...\n",
              "995   True   True  False\n",
              "996   True   True  False\n",
              "997  False   True   True\n",
              "998  False  False  False\n",
              "999  False  False  False\n",
              "\n",
              "[1000 rows x 3 columns]"
            ],
            "text/html": [
              "\n",
              "  <div id=\"df-12457ee3-4650-40d4-ad7c-1fa12d2be81b\">\n",
              "    <div class=\"colab-df-container\">\n",
              "      <div>\n",
              "<style scoped>\n",
              "    .dataframe tbody tr th:only-of-type {\n",
              "        vertical-align: middle;\n",
              "    }\n",
              "\n",
              "    .dataframe tbody tr th {\n",
              "        vertical-align: top;\n",
              "    }\n",
              "\n",
              "    .dataframe thead th {\n",
              "        text-align: right;\n",
              "    }\n",
              "</style>\n",
              "<table border=\"1\" class=\"dataframe\">\n",
              "  <thead>\n",
              "    <tr style=\"text-align: right;\">\n",
              "      <th></th>\n",
              "      <th>x1</th>\n",
              "      <th>x2</th>\n",
              "      <th>y</th>\n",
              "    </tr>\n",
              "  </thead>\n",
              "  <tbody>\n",
              "    <tr>\n",
              "      <th>0</th>\n",
              "      <td>True</td>\n",
              "      <td>True</td>\n",
              "      <td>False</td>\n",
              "    </tr>\n",
              "    <tr>\n",
              "      <th>1</th>\n",
              "      <td>True</td>\n",
              "      <td>False</td>\n",
              "      <td>True</td>\n",
              "    </tr>\n",
              "    <tr>\n",
              "      <th>2</th>\n",
              "      <td>True</td>\n",
              "      <td>False</td>\n",
              "      <td>True</td>\n",
              "    </tr>\n",
              "    <tr>\n",
              "      <th>3</th>\n",
              "      <td>True</td>\n",
              "      <td>True</td>\n",
              "      <td>False</td>\n",
              "    </tr>\n",
              "    <tr>\n",
              "      <th>4</th>\n",
              "      <td>True</td>\n",
              "      <td>True</td>\n",
              "      <td>False</td>\n",
              "    </tr>\n",
              "    <tr>\n",
              "      <th>...</th>\n",
              "      <td>...</td>\n",
              "      <td>...</td>\n",
              "      <td>...</td>\n",
              "    </tr>\n",
              "    <tr>\n",
              "      <th>995</th>\n",
              "      <td>True</td>\n",
              "      <td>True</td>\n",
              "      <td>False</td>\n",
              "    </tr>\n",
              "    <tr>\n",
              "      <th>996</th>\n",
              "      <td>True</td>\n",
              "      <td>True</td>\n",
              "      <td>False</td>\n",
              "    </tr>\n",
              "    <tr>\n",
              "      <th>997</th>\n",
              "      <td>False</td>\n",
              "      <td>True</td>\n",
              "      <td>True</td>\n",
              "    </tr>\n",
              "    <tr>\n",
              "      <th>998</th>\n",
              "      <td>False</td>\n",
              "      <td>False</td>\n",
              "      <td>False</td>\n",
              "    </tr>\n",
              "    <tr>\n",
              "      <th>999</th>\n",
              "      <td>False</td>\n",
              "      <td>False</td>\n",
              "      <td>False</td>\n",
              "    </tr>\n",
              "  </tbody>\n",
              "</table>\n",
              "<p>1000 rows × 3 columns</p>\n",
              "</div>\n",
              "      <button class=\"colab-df-convert\" onclick=\"convertToInteractive('df-12457ee3-4650-40d4-ad7c-1fa12d2be81b')\"\n",
              "              title=\"Convert this dataframe to an interactive table.\"\n",
              "              style=\"display:none;\">\n",
              "        \n",
              "  <svg xmlns=\"http://www.w3.org/2000/svg\" height=\"24px\"viewBox=\"0 0 24 24\"\n",
              "       width=\"24px\">\n",
              "    <path d=\"M0 0h24v24H0V0z\" fill=\"none\"/>\n",
              "    <path d=\"M18.56 5.44l.94 2.06.94-2.06 2.06-.94-2.06-.94-.94-2.06-.94 2.06-2.06.94zm-11 1L8.5 8.5l.94-2.06 2.06-.94-2.06-.94L8.5 2.5l-.94 2.06-2.06.94zm10 10l.94 2.06.94-2.06 2.06-.94-2.06-.94-.94-2.06-.94 2.06-2.06.94z\"/><path d=\"M17.41 7.96l-1.37-1.37c-.4-.4-.92-.59-1.43-.59-.52 0-1.04.2-1.43.59L10.3 9.45l-7.72 7.72c-.78.78-.78 2.05 0 2.83L4 21.41c.39.39.9.59 1.41.59.51 0 1.02-.2 1.41-.59l7.78-7.78 2.81-2.81c.8-.78.8-2.07 0-2.86zM5.41 20L4 18.59l7.72-7.72 1.47 1.35L5.41 20z\"/>\n",
              "  </svg>\n",
              "      </button>\n",
              "      \n",
              "  <style>\n",
              "    .colab-df-container {\n",
              "      display:flex;\n",
              "      flex-wrap:wrap;\n",
              "      gap: 12px;\n",
              "    }\n",
              "\n",
              "    .colab-df-convert {\n",
              "      background-color: #E8F0FE;\n",
              "      border: none;\n",
              "      border-radius: 50%;\n",
              "      cursor: pointer;\n",
              "      display: none;\n",
              "      fill: #1967D2;\n",
              "      height: 32px;\n",
              "      padding: 0 0 0 0;\n",
              "      width: 32px;\n",
              "    }\n",
              "\n",
              "    .colab-df-convert:hover {\n",
              "      background-color: #E2EBFA;\n",
              "      box-shadow: 0px 1px 2px rgba(60, 64, 67, 0.3), 0px 1px 3px 1px rgba(60, 64, 67, 0.15);\n",
              "      fill: #174EA6;\n",
              "    }\n",
              "\n",
              "    [theme=dark] .colab-df-convert {\n",
              "      background-color: #3B4455;\n",
              "      fill: #D2E3FC;\n",
              "    }\n",
              "\n",
              "    [theme=dark] .colab-df-convert:hover {\n",
              "      background-color: #434B5C;\n",
              "      box-shadow: 0px 1px 3px 1px rgba(0, 0, 0, 0.15);\n",
              "      filter: drop-shadow(0px 1px 2px rgba(0, 0, 0, 0.3));\n",
              "      fill: #FFFFFF;\n",
              "    }\n",
              "  </style>\n",
              "\n",
              "      <script>\n",
              "        const buttonEl =\n",
              "          document.querySelector('#df-12457ee3-4650-40d4-ad7c-1fa12d2be81b button.colab-df-convert');\n",
              "        buttonEl.style.display =\n",
              "          google.colab.kernel.accessAllowed ? 'block' : 'none';\n",
              "\n",
              "        async function convertToInteractive(key) {\n",
              "          const element = document.querySelector('#df-12457ee3-4650-40d4-ad7c-1fa12d2be81b');\n",
              "          const dataTable =\n",
              "            await google.colab.kernel.invokeFunction('convertToInteractive',\n",
              "                                                     [key], {});\n",
              "          if (!dataTable) return;\n",
              "\n",
              "          const docLinkHtml = 'Like what you see? Visit the ' +\n",
              "            '<a target=\"_blank\" href=https://colab.research.google.com/notebooks/data_table.ipynb>data table notebook</a>'\n",
              "            + ' to learn more about interactive tables.';\n",
              "          element.innerHTML = '';\n",
              "          dataTable['output_type'] = 'display_data';\n",
              "          await google.colab.output.renderOutput(dataTable, element);\n",
              "          const docLink = document.createElement('div');\n",
              "          docLink.innerHTML = docLinkHtml;\n",
              "          element.appendChild(docLink);\n",
              "        }\n",
              "      </script>\n",
              "    </div>\n",
              "  </div>\n",
              "  "
            ]
          },
          "metadata": {},
          "execution_count": 5
        }
      ]
    },
    {
      "cell_type": "code",
      "source": [
        "# import torch  # 파이토치\n",
        "# import pandas as pd\n",
        "# from torch import nn\n",
        "# from torch import optim\n",
        "# from torch.utils.data import Dataset, DataLoader"
      ],
      "metadata": {
        "id": "YM6EQMNtbQSD"
      },
      "execution_count": 6,
      "outputs": []
    },
    {
      "cell_type": "code",
      "source": [
        "import torch\n",
        "import pandas as pd\n",
        "from torch import nn\n",
        "from torch import optim\n",
        "from torch.utils.data import Dataset, DataLoader\n",
        "\n",
        "class CustomDataset(Dataset):\n",
        "  def __init__(self, file_path):\n",
        "    df = pd.read_csv(file_path)\n",
        "    self.x1 = df.iloc[:, 0].values \n",
        "    self.x2 = df.iloc[:,1].values\n",
        "    self.y = df.iloc[:,2].values\n",
        "    self.length = len(df)\n",
        "\n",
        "  def __getitem__(self, index):\n",
        "    x = torch.FloatTensor([self.x1[index], self.x2[index]])\n",
        "    y = torch.FloatTensor([self.y[index]])\n",
        "    return x,y\n",
        "\n",
        "  def __len__(self):\n",
        "    return self.length\n",
        "\n",
        "\n",
        "class CustomModel(nn.Module):\n",
        "  def __init__(self):\n",
        "    super(CustomModel, self).__init__()\n",
        "  # 하나의모덷ㄹ 생성하는것\n",
        "    self.layer = nn.Sequential(\n",
        "        nn.Linear(2,1),\n",
        "        nn.Sigmoid()   # sigmoid통해 y결과값 나옴\n",
        "    )\n",
        "\n",
        "  def forward(self, x):\n",
        "    x = self.layer(x)\n",
        "    return x\n",
        "\n",
        "train_dataset = CustomDataset('data.csv')\n",
        "train_dataloader = DataLoader(train_dataset, batch_size=64, shuffle=True, drop_last=True)\n",
        "# batch : 한번에 몇개를 넣을건지\n",
        "# drop : 데이터 중간에 몇개를 뺄건지\n",
        "\n",
        "device = 'cuda' if torch.cuda.is_available() else 'cpu'  # is_available() : Gpu 사용 할건지\n",
        "print(device)\n",
        "\n",
        "model = CustomModel().to(device)\n",
        "criterion = nn.BCELoss().to(device)\n",
        "optimizer = optim.SGD(model.parameters(), lr=0.01)\n",
        "# optimizer : 가중치 최적화시킬때 사용\n",
        "\n",
        "for epoch in range(10000):\n",
        "  cost = 0.0\n",
        "  for x,y in train_dataloader:\n",
        "    x = x.to(device)\n",
        "    y = y.to(device)\n",
        "\n",
        "    output = model(x)\n",
        "    loss = criterion(output, y)\n",
        "\n",
        "    optimizer.zero_grad()\n",
        "    loss.backward()\n",
        "    optimizer.step()\n",
        "\n",
        "    cost += loss\n",
        "\n",
        "  cost = cost/len(train_dataloader)\n",
        "\n",
        "  if (epoch + 1) % 1000 ==0:\n",
        "    print(f'Epoch : {epoch+1:4d}, Cost : {cost:.3f}')\n",
        "\n",
        "with torch.no_grad():\n",
        "  model.eval()\n",
        "  input = torch.FloatTensor([\n",
        "      [0,0],\n",
        "      [0,1],\n",
        "      [1,0],\n",
        "      [1,1]\n",
        "  ]).to(device)\n",
        "\n",
        "  outputs = model(input)\n",
        "\n",
        "print(outputs)"
      ],
      "metadata": {
        "id": "2bGt70HyIDj8",
        "colab": {
          "base_uri": "https://localhost:8080/"
        },
        "outputId": "e1e37dbd-71eb-4300-e1d8-b321bd73f1c1"
      },
      "execution_count": 8,
      "outputs": [
        {
          "output_type": "stream",
          "name": "stdout",
          "text": [
            "cpu\n"
          ]
        },
        {
          "output_type": "stream",
          "name": "stderr",
          "text": [
            "<ipython-input-8-7dbc38a0a036>:16: DeprecationWarning: In future, it will be an error for 'np.bool_' scalars to be interpreted as an index\n",
            "  x = torch.FloatTensor([self.x1[index], self.x2[index]])\n",
            "<ipython-input-8-7dbc38a0a036>:17: DeprecationWarning: In future, it will be an error for 'np.bool_' scalars to be interpreted as an index\n",
            "  y = torch.FloatTensor([self.y[index]])\n"
          ]
        },
        {
          "output_type": "stream",
          "name": "stdout",
          "text": [
            "Epoch : 1000, Cost : 0.692\n",
            "Epoch : 2000, Cost : 0.692\n",
            "Epoch : 3000, Cost : 0.692\n",
            "Epoch : 4000, Cost : 0.692\n",
            "Epoch : 5000, Cost : 0.692\n",
            "Epoch : 6000, Cost : 0.692\n",
            "Epoch : 7000, Cost : 0.692\n",
            "Epoch : 8000, Cost : 0.692\n",
            "Epoch : 9000, Cost : 0.692\n",
            "Epoch : 10000, Cost : 0.692\n",
            "tensor([[0.4667],\n",
            "        [0.4984],\n",
            "        [0.5031],\n",
            "        [0.5348]])\n"
          ]
        }
      ]
    },
    {
      "cell_type": "code",
      "source": [
        "class fruit():\n",
        "  def __init__(self) -> None:\n",
        "    self.cnt = 0\n",
        "    self.name = []\n",
        "\n",
        "  def add_fruit(self, name, size):\n",
        "     self.name.append(name)\n",
        "     self.cnt += 1\n",
        "     return True\n",
        "\n",
        "  def __len__(self):\n",
        "    return len(self.cnt)\n",
        "    # self :다른함수에서도 사용할수있게 하는것\n",
        "\n",
        "  def get_item(self):\n",
        "    return self._name\n",
        "\n",
        "  def __len__(self):\n",
        "    return self._cnt"
      ],
      "metadata": {
        "id": "Q2z3eexoKzzL"
      },
      "execution_count": 9,
      "outputs": []
    },
    {
      "cell_type": "code",
      "source": [
        "fruit_class = fruit()"
      ],
      "metadata": {
        "id": "aqyvGbTLUbF0"
      },
      "execution_count": 10,
      "outputs": []
    },
    {
      "cell_type": "code",
      "source": [
        "fruit_class.add_fruit('apple',10)\n",
        "fruit_class.add_fruit('banana',10)\n",
        "fruit_class.add_fruit('orange',10)"
      ],
      "metadata": {
        "colab": {
          "base_uri": "https://localhost:8080/"
        },
        "id": "UMdeCU9BQhBS",
        "outputId": "dabc107f-2dd1-4481-995a-4970f6ed6ce2"
      },
      "execution_count": 11,
      "outputs": [
        {
          "output_type": "execute_result",
          "data": {
            "text/plain": [
              "True"
            ]
          },
          "metadata": {},
          "execution_count": 11
        }
      ]
    },
    {
      "cell_type": "code",
      "source": [
        "len(fruit_class)"
      ],
      "metadata": {
        "id": "lJ_70a-JUc25"
      },
      "execution_count": null,
      "outputs": []
    },
    {
      "cell_type": "code",
      "source": [
        "dir(fruit_class)"
      ],
      "metadata": {
        "id": "iIahzPWXUeFE"
      },
      "execution_count": null,
      "outputs": []
    },
    {
      "cell_type": "code",
      "source": [
        "fruit_class.get_item()"
      ],
      "metadata": {
        "id": "59DT06nQUf68"
      },
      "execution_count": null,
      "outputs": []
    },
    {
      "cell_type": "code",
      "source": [
        "fruit_class.name = ['1','2','3']"
      ],
      "metadata": {
        "id": "w5GNsLn5UhIL"
      },
      "execution_count": 15,
      "outputs": []
    },
    {
      "cell_type": "code",
      "source": [
        "fruit_class.name"
      ],
      "metadata": {
        "colab": {
          "base_uri": "https://localhost:8080/"
        },
        "id": "hFJ-3X3uUiNb",
        "outputId": "d9b70849-b97d-4fe5-9500-9c231f6aac03"
      },
      "execution_count": 16,
      "outputs": [
        {
          "output_type": "execute_result",
          "data": {
            "text/plain": [
              "['1', '2', '3']"
            ]
          },
          "metadata": {},
          "execution_count": 16
        }
      ]
    },
    {
      "cell_type": "markdown",
      "source": [
        "### 다층퍼셉트론 모델"
      ],
      "metadata": {
        "id": "BJ5FgTSdXpWT"
      }
    },
    {
      "cell_type": "code",
      "source": [
        "import torch\n",
        "import pandas as pd\n",
        "from torch import nn\n",
        "from torch import optim\n",
        "from torch.utils.data import Dataset, DataLoader\n",
        "\n",
        "class CustomDataset(Dataset):\n",
        "  def __init__(self, file_path):\n",
        "    df = pd.read_csv(file_path)\n",
        "    self.x1 = df.iloc[:, 0].values\n",
        "    self.x2 = df.iloc[:,1].values\n",
        "    self.y = df.iloc[:,2].values\n",
        "    self.length = len(df)\n",
        "\n",
        "  def __getitem__(self, index):\n",
        "    x = torch.FloatTensor([self.x1[index], self.x2[index]])\n",
        "    y = torch.FloatTensor([self.y[index]])\n",
        "    return x,y\n",
        "\n",
        "  def __len__(self):\n",
        "    return self.length\n",
        "\n",
        "\n",
        "class CustomModel(nn.Module):\n",
        "  def __init__(self):\n",
        "    super(CustomModel, self).__init__()\n",
        "\n",
        "    self.layer1 = nn.Sequential(\n",
        "        nn.Linear(2,2),\n",
        "        nn.Sigmoid()\n",
        "    )\n",
        "    self.layer2 = nn.Sequential(\n",
        "        nn.Linear(2,1),\n",
        "        nn.Sigmoid()\n",
        "    )\n",
        "\n",
        "  def forward(self, x):\n",
        "    x = self.layer1(x)\n",
        "    x = self.layer2(x)\n",
        "    return x\n",
        "\n",
        "train_dataset = CustomDataset('data.csv')\n",
        "train_dataloader = DataLoader(train_dataset, batch_size=64, shuffle=True, drop_last=True)\n",
        "\n",
        "device = 'cuda' if torch.cuda.is_available() else 'cpu'\n",
        "print(device)\n",
        "\n",
        "model = CustomModel().to(device)\n",
        "criterion = nn.BCELoss().to(device)\n",
        "optimizer = optim.SGD(model.parameters(), lr=0.01)\n",
        "\n",
        "for epoch in range(10000):\n",
        "  cost = 0.0\n",
        "  for x,y in train_dataloader:\n",
        "    x = x.to(device)\n",
        "    y = y.to(device)\n",
        "\n",
        "    output = model(x)\n",
        "    loss = criterion(output, y)\n",
        "\n",
        "    optimizer.zero_grad()\n",
        "    loss.backward()\n",
        "    optimizer.step()\n",
        "\n",
        "    cost += loss\n",
        "\n",
        "  cost = cost/len(train_dataloader)\n",
        "\n",
        "  if (epoch + 1) % 1000 ==0:\n",
        "    print(f'Epoch : {epoch+1:4d}, Cost : {cost:.3f}')\n",
        "\n",
        "with torch.no_grad():\n",
        "  model.eval()\n",
        "  input = torch.FloatTensor([\n",
        "      [0,0],\n",
        "      [0,1],\n",
        "      [1,0],\n",
        "      [1,1]\n",
        "  ]).to(device)\n",
        "\n",
        "  outputs = model(input)\n",
        "\n",
        "print(outputs)\n",
        "print(outputs<=0.5)"
      ],
      "metadata": {
        "colab": {
          "base_uri": "https://localhost:8080/"
        },
        "id": "g3DYoJj-XqgK",
        "outputId": "1424a15f-a9e4-47c7-bee8-2d451fbdd7d3"
      },
      "execution_count": 17,
      "outputs": [
        {
          "output_type": "stream",
          "name": "stdout",
          "text": [
            "cpu\n"
          ]
        },
        {
          "output_type": "stream",
          "name": "stderr",
          "text": [
            "<ipython-input-17-d56e187ed7d0>:16: DeprecationWarning: In future, it will be an error for 'np.bool_' scalars to be interpreted as an index\n",
            "  x = torch.FloatTensor([self.x1[index], self.x2[index]])\n",
            "<ipython-input-17-d56e187ed7d0>:17: DeprecationWarning: In future, it will be an error for 'np.bool_' scalars to be interpreted as an index\n",
            "  y = torch.FloatTensor([self.y[index]])\n"
          ]
        },
        {
          "output_type": "stream",
          "name": "stdout",
          "text": [
            "Epoch : 1000, Cost : 0.670\n",
            "Epoch : 2000, Cost : 0.504\n",
            "Epoch : 3000, Cost : 0.374\n",
            "Epoch : 4000, Cost : 0.096\n",
            "Epoch : 5000, Cost : 0.042\n",
            "Epoch : 6000, Cost : 0.026\n",
            "Epoch : 7000, Cost : 0.019\n",
            "Epoch : 8000, Cost : 0.015\n",
            "Epoch : 9000, Cost : 0.012\n",
            "Epoch : 10000, Cost : 0.010\n",
            "tensor([[0.0075],\n",
            "        [0.9910],\n",
            "        [0.9909],\n",
            "        [0.0153]])\n",
            "tensor([[ True],\n",
            "        [False],\n",
            "        [False],\n",
            "        [ True]])\n"
          ]
        }
      ]
    },
    {
      "cell_type": "markdown",
      "source": [
        "# sigmoid함수 그려보기\n"
      ],
      "metadata": {
        "id": "2xiqWTOWarAa"
      }
    },
    {
      "cell_type": "code",
      "source": [
        "!pip install koreanize-matplotlib\n",
        "import numpy as np\n",
        "import koreanize_matplotlib\n",
        "import matplotlib.pyplot as plt"
      ],
      "metadata": {
        "colab": {
          "base_uri": "https://localhost:8080/"
        },
        "id": "J61kTHa3cH4n",
        "outputId": "293af440-03b4-45c7-e24d-1d09d5c9ee38"
      },
      "execution_count": 18,
      "outputs": [
        {
          "output_type": "stream",
          "name": "stdout",
          "text": [
            "Looking in indexes: https://pypi.org/simple, https://us-python.pkg.dev/colab-wheels/public/simple/\n",
            "Collecting koreanize-matplotlib\n",
            "  Downloading koreanize_matplotlib-0.0.1-py3-none-any.whl (2.5 MB)\n",
            "\u001b[K     |████████████████████████████████| 2.5 MB 4.2 MB/s \n",
            "\u001b[?25hRequirement already satisfied: matplotlib in /usr/local/lib/python3.8/dist-packages (from koreanize-matplotlib) (3.2.2)\n",
            "Requirement already satisfied: kiwisolver>=1.0.1 in /usr/local/lib/python3.8/dist-packages (from matplotlib->koreanize-matplotlib) (1.4.4)\n",
            "Requirement already satisfied: pyparsing!=2.0.4,!=2.1.2,!=2.1.6,>=2.0.1 in /usr/local/lib/python3.8/dist-packages (from matplotlib->koreanize-matplotlib) (3.0.9)\n",
            "Requirement already satisfied: numpy>=1.11 in /usr/local/lib/python3.8/dist-packages (from matplotlib->koreanize-matplotlib) (1.21.6)\n",
            "Requirement already satisfied: cycler>=0.10 in /usr/local/lib/python3.8/dist-packages (from matplotlib->koreanize-matplotlib) (0.11.0)\n",
            "Requirement already satisfied: python-dateutil>=2.1 in /usr/local/lib/python3.8/dist-packages (from matplotlib->koreanize-matplotlib) (2.8.2)\n",
            "Requirement already satisfied: six>=1.5 in /usr/local/lib/python3.8/dist-packages (from python-dateutil>=2.1->matplotlib->koreanize-matplotlib) (1.15.0)\n",
            "Installing collected packages: koreanize-matplotlib\n",
            "Successfully installed koreanize-matplotlib-0.0.1\n"
          ]
        }
      ]
    },
    {
      "cell_type": "code",
      "source": [
        "def step(x):\n",
        "  return np.array(x >0, dtype=np.int)\n",
        "\n",
        "x = np.arange(-5.0,5.0,0.1)\n",
        "y = step(x)\n",
        "plt.title('Step Function')\n",
        "plt.plot(x,y)\n",
        "plt.show()"
      ],
      "metadata": {
        "colab": {
          "base_uri": "https://localhost:8080/",
          "height": 353
        },
        "id": "vA1YeSi8asmt",
        "outputId": "cbbf0da0-b7dc-4142-8a6f-27ebcccbba18"
      },
      "execution_count": 19,
      "outputs": [
        {
          "output_type": "stream",
          "name": "stderr",
          "text": [
            "<ipython-input-19-26971bb9f972>:2: DeprecationWarning: `np.int` is a deprecated alias for the builtin `int`. To silence this warning, use `int` by itself. Doing this will not modify any behavior and is safe. When replacing `np.int`, you may wish to use e.g. `np.int64` or `np.int32` to specify the precision. If you wish to review your current use, check the release note link for additional information.\n",
            "Deprecated in NumPy 1.20; for more details and guidance: https://numpy.org/devdocs/release/1.20.0-notes.html#deprecations\n",
            "  return np.array(x >0, dtype=np.int)\n"
          ]
        },
        {
          "output_type": "display_data",
          "data": {
            "text/plain": [
              "<Figure size 432x288 with 1 Axes>"
            ],
            "image/png": "[encoded data removed]"
          },
          "metadata": {
            "needs_background": "light"
          }
        }
      ]
    },
    {
      "cell_type": "code",
      "source": [
        "# 시크모이드 함수\n",
        "def sigmoid(x):\n",
        "  return 1/(1+np.exp(-x))\n",
        "\n",
        "x = np.arange(-5.0, 5.0, 0.1)\n",
        "y = sigmoid(x)\n",
        "plt.plot(x,y)\n",
        "plt.title('Sigmoid Function')\n",
        "plt.show()"
      ],
      "metadata": {
        "colab": {
          "base_uri": "https://localhost:8080/",
          "height": 279
        },
        "id": "TeB-pEN-cRyw",
        "outputId": "ec3d996f-017f-4aab-a98b-da908e358cd5"
      },
      "execution_count": 20,
      "outputs": [
        {
          "output_type": "display_data",
          "data": {
            "text/plain": [
              "<Figure size 432x288 with 1 Axes>"
            ],
            "image/png": "[encoded data removed]"
          },
          "metadata": {
            "needs_background": "light"
          }
        }
      ]
    },
    {
      "cell_type": "code",
      "source": [
        "x = np.arange(-5.0,5.0,0.1)\n",
        "y = np.tanh(x)\n",
        "plt.plot(x,y)\n",
        "plt.grid()\n",
        "plt.title('Tanh function')\n",
        "plt.show()"
      ],
      "metadata": {
        "colab": {
          "base_uri": "https://localhost:8080/",
          "height": 279
        },
        "id": "bhP-mUM3cSDV",
        "outputId": "c21957a7-5e6c-40ae-9cf6-4d216b4c4302"
      },
      "execution_count": 21,
      "outputs": [
        {
          "output_type": "display_data",
          "data": {
            "text/plain": [
              "<Figure size 432x288 with 1 Axes>"
            ],
            "image/png": "[encoded data removed]"
          },
          "metadata": {
            "needs_background": "light"
          }
        }
      ]
    },
    {
      "cell_type": "code",
      "source": [
        "# Relu 함수 : (가장많이사용됨)\n",
        "\n",
        "def relu(x):\n",
        "  return np.maximum(0,x)\n",
        "\n",
        "x = np.arange(-5.0, 5.0,1)\n",
        "plt.plot(x, relu(x))\n",
        "plt.grid()\n",
        "plt.title('ReLu Function')\n",
        "plt.show()\n",
        "\n",
        "# 입력값이 음수인경우 : 0으로, 정보가 사라지게 됨\n",
        "# 이런 특성의 보완을 위해 : leaky 함수가 나옴"
      ],
      "metadata": {
        "colab": {
          "base_uri": "https://localhost:8080/",
          "height": 279
        },
        "id": "qA6zcyr7csUu",
        "outputId": "2c9ddc7a-8020-4771-89e6-cdac43960254"
      },
      "execution_count": 22,
      "outputs": [
        {
          "output_type": "display_data",
          "data": {
            "text/plain": [
              "<Figure size 432x288 with 1 Axes>"
            ],
            "image/png": "[encoded data removed]"
          },
          "metadata": {
            "needs_background": "light"
          }
        }
      ]
    },
    {
      "cell_type": "code",
      "source": [
        "a = 0.1\n",
        "\n",
        "def leaky_relu(x):\n",
        "  return np.maximum(a*x, x)\n",
        "\n",
        "plt.plot(x, leaky_relu(x))\n",
        "plt.grid()\n",
        "plt.title('Leaky ReLU')\n",
        "plt.show()\n",
        "\n",
        "# ReLU 함수는 y값이 0인 직선부분이 길었지만, 이와는 다르게 \n",
        "# Leaky Relu 함수에서는 이 직선의 기울기가 생긴것을 볼수있음"
      ],
      "metadata": {
        "colab": {
          "base_uri": "https://localhost:8080/",
          "height": 279
        },
        "id": "5herTywadc91",
        "outputId": "22f41557-d807-4d24-d699-85bb2e47f817"
      },
      "execution_count": 23,
      "outputs": [
        {
          "output_type": "display_data",
          "data": {
            "text/plain": [
              "<Figure size 432x288 with 1 Axes>"
            ],
            "image/png": "[encoded data removed]"
          },
          "metadata": {
            "needs_background": "light"
          }
        }
      ]
    },
    {
      "cell_type": "code",
      "source": [
        "# 여러가지 클래스를 구분할때 출력 레이어에 사용 : softmax\n",
        "\n",
        "# Softmax\n",
        "x = np.arange(-5.0,5.0,0.1)\n",
        "y = np.exp(x)/np.sum(np.exp(x))\n",
        "\n",
        "plt.plot(x,y)\n",
        "plt.title('Softmax Function')\n",
        "plt.show()"
      ],
      "metadata": {
        "colab": {
          "base_uri": "https://localhost:8080/",
          "height": 279
        },
        "id": "lPo8lWCVemCa",
        "outputId": "b3adf5d5-ea28-42d3-e2a5-7ab86e3ae524"
      },
      "execution_count": 24,
      "outputs": [
        {
          "output_type": "display_data",
          "data": {
            "text/plain": [
              "<Figure size 432x288 with 1 Axes>"
            ],
            "image/png": "[encoded data removed]"
          },
          "metadata": {
            "needs_background": "light"
          }
        }
      ]
    },
    {
      "cell_type": "markdown",
      "source": [
        "# K-Nearest Neighbors\n",
        "\n",
        "새로운 데이터(x)와 가장 가까운 k개의 데이터를 통해 x를 분류하는 방법   \n",
        "\n",
        "- euclidean distance\n",
        "$$\\sqrt{(x_1-μ_1)^2 + (x_2-μ_2)^2+ ⋯ + (x_p-μ_p)^2}$$\n",
        "\n",
        "- manhattan distance\n",
        "$$|x_1-μ_1|+|x_2-μ_2|+⋯+|x_p-μ_p|$$\n",
        "\n",
        "      변수의 값이 가지는 스케일의 차이가 모델 학습에 영향을 미치는 것을 막기 위해 스케일링 수행이 필요\n",
        "      각 변수의 값 차이가 가졌던 정보는 남아있돌록 "
      ],
      "metadata": {
        "id": "zGTXtVtl3UOa"
      }
    },
    {
      "cell_type": "code",
      "source": [
        "# 가장가까운 데이터 분류해주는 모델 만들기\n",
        "\n",
        "import pandas as pd\n",
        "from sklearn.model_selection import train_test_split\n",
        "from sklearn.neighbors import KNeighborsClassifier\n",
        "from sklearn.preprocessing import StandardScaler\n",
        "import sklearn as sc"
      ],
      "metadata": {
        "id": "_2cgoOFtes2-"
      },
      "execution_count": 25,
      "outputs": []
    },
    {
      "cell_type": "code",
      "source": [
        "mobile_price = pd.read_csv('train.csv')\n",
        "print(mobile_price.shape)\n",
        "mobile_price.head()"
      ],
      "metadata": {
        "colab": {
          "base_uri": "https://localhost:8080/",
          "height": 318
        },
        "id": "7_-J1ZZx6mlV",
        "outputId": "6429e456-f63b-4964-8446-725d7d22d33f"
      },
      "execution_count": 28,
      "outputs": [
        {
          "output_type": "stream",
          "name": "stdout",
          "text": [
            "(2000, 21)\n"
          ]
        },
        {
          "output_type": "execute_result",
          "data": {
            "text/plain": [
              "   battery_power  blue  clock_speed  dual_sim  fc  four_g  int_memory  m_dep  \\\n",
              "0            842     0          2.2         0   1       0           7    0.6   \n",
              "1           1021     1          0.5         1   0       1          53    0.7   \n",
              "2            563     1          0.5         1   2       1          41    0.9   \n",
              "3            615     1          2.5         0   0       0          10    0.8   \n",
              "4           1821     1          1.2         0  13       1          44    0.6   \n",
              "\n",
              "   mobile_wt  n_cores  ...  px_height  px_width   ram  sc_h  sc_w  talk_time  \\\n",
              "0        188        2  ...         20       756  2549     9     7         19   \n",
              "1        136        3  ...        905      1988  2631    17     3          7   \n",
              "2        145        5  ...       1263      1716  2603    11     2          9   \n",
              "3        131        6  ...       1216      1786  2769    16     8         11   \n",
              "4        141        2  ...       1208      1212  1411     8     2         15   \n",
              "\n",
              "   three_g  touch_screen  wifi  price_range  \n",
              "0        0             0     1            1  \n",
              "1        1             1     0            2  \n",
              "2        1             1     0            2  \n",
              "3        1             0     0            2  \n",
              "4        1             1     0            1  \n",
              "\n",
              "[5 rows x 21 columns]"
            ],
            "text/html": [
              "\n",
              "  <div id=\"df-38797f1e-037c-4671-bfa7-6f4bb6117354\">\n",
              "    <div class=\"colab-df-container\">\n",
              "      <div>\n",
              "<style scoped>\n",
              "    .dataframe tbody tr th:only-of-type {\n",
              "        vertical-align: middle;\n",
              "    }\n",
              "\n",
              "    .dataframe tbody tr th {\n",
              "        vertical-align: top;\n",
              "    }\n",
              "\n",
              "    .dataframe thead th {\n",
              "        text-align: right;\n",
              "    }\n",
              "</style>\n",
              "<table border=\"1\" class=\"dataframe\">\n",
              "  <thead>\n",
              "    <tr style=\"text-align: right;\">\n",
              "      <th></th>\n",
              "      <th>battery_power</th>\n",
              "      <th>blue</th>\n",
              "      <th>clock_speed</th>\n",
              "      <th>dual_sim</th>\n",
              "      <th>fc</th>\n",
              "      <th>four_g</th>\n",
              "      <th>int_memory</th>\n",
              "      <th>m_dep</th>\n",
              "      <th>mobile_wt</th>\n",
              "      <th>n_cores</th>\n",
              "      <th>...</th>\n",
              "      <th>px_height</th>\n",
              "      <th>px_width</th>\n",
              "      <th>ram</th>\n",
              "      <th>sc_h</th>\n",
              "      <th>sc_w</th>\n",
              "      <th>talk_time</th>\n",
              "      <th>three_g</th>\n",
              "      <th>touch_screen</th>\n",
              "      <th>wifi</th>\n",
              "      <th>price_range</th>\n",
              "    </tr>\n",
              "  </thead>\n",
              "  <tbody>\n",
              "    <tr>\n",
              "      <th>0</th>\n",
              "      <td>842</td>\n",
              "      <td>0</td>\n",
              "      <td>2.2</td>\n",
              "      <td>0</td>\n",
              "      <td>1</td>\n",
              "      <td>0</td>\n",
              "      <td>7</td>\n",
              "      <td>0.6</td>\n",
              "      <td>188</td>\n",
              "      <td>2</td>\n",
              "      <td>...</td>\n",
              "      <td>20</td>\n",
              "      <td>756</td>\n",
              "      <td>2549</td>\n",
              "      <td>9</td>\n",
              "      <td>7</td>\n",
              "      <td>19</td>\n",
              "      <td>0</td>\n",
              "      <td>0</td>\n",
              "      <td>1</td>\n",
              "      <td>1</td>\n",
              "    </tr>\n",
              "    <tr>\n",
              "      <th>1</th>\n",
              "      <td>1021</td>\n",
              "      <td>1</td>\n",
              "      <td>0.5</td>\n",
              "      <td>1</td>\n",
              "      <td>0</td>\n",
              "      <td>1</td>\n",
              "      <td>53</td>\n",
              "      <td>0.7</td>\n",
              "      <td>136</td>\n",
              "      <td>3</td>\n",
              "      <td>...</td>\n",
              "      <td>905</td>\n",
              "      <td>1988</td>\n",
              "      <td>2631</td>\n",
              "      <td>17</td>\n",
              "      <td>3</td>\n",
              "      <td>7</td>\n",
              "      <td>1</td>\n",
              "      <td>1</td>\n",
              "      <td>0</td>\n",
              "      <td>2</td>\n",
              "    </tr>\n",
              "    <tr>\n",
              "      <th>2</th>\n",
              "      <td>563</td>\n",
              "      <td>1</td>\n",
              "      <td>0.5</td>\n",
              "      <td>1</td>\n",
              "      <td>2</td>\n",
              "      <td>1</td>\n",
              "      <td>41</td>\n",
              "      <td>0.9</td>\n",
              "      <td>145</td>\n",
              "      <td>5</td>\n",
              "      <td>...</td>\n",
              "      <td>1263</td>\n",
              "      <td>1716</td>\n",
              "      <td>2603</td>\n",
              "      <td>11</td>\n",
              "      <td>2</td>\n",
              "      <td>9</td>\n",
              "      <td>1</td>\n",
              "      <td>1</td>\n",
              "      <td>0</td>\n",
              "      <td>2</td>\n",
              "    </tr>\n",
              "    <tr>\n",
              "      <th>3</th>\n",
              "      <td>615</td>\n",
              "      <td>1</td>\n",
              "      <td>2.5</td>\n",
              "      <td>0</td>\n",
              "      <td>0</td>\n",
              "      <td>0</td>\n",
              "      <td>10</td>\n",
              "      <td>0.8</td>\n",
              "      <td>131</td>\n",
              "      <td>6</td>\n",
              "      <td>...</td>\n",
              "      <td>1216</td>\n",
              "      <td>1786</td>\n",
              "      <td>2769</td>\n",
              "      <td>16</td>\n",
              "      <td>8</td>\n",
              "      <td>11</td>\n",
              "      <td>1</td>\n",
              "      <td>0</td>\n",
              "      <td>0</td>\n",
              "      <td>2</td>\n",
              "    </tr>\n",
              "    <tr>\n",
              "      <th>4</th>\n",
              "      <td>1821</td>\n",
              "      <td>1</td>\n",
              "      <td>1.2</td>\n",
              "      <td>0</td>\n",
              "      <td>13</td>\n",
              "      <td>1</td>\n",
              "      <td>44</td>\n",
              "      <td>0.6</td>\n",
              "      <td>141</td>\n",
              "      <td>2</td>\n",
              "      <td>...</td>\n",
              "      <td>1208</td>\n",
              "      <td>1212</td>\n",
              "      <td>1411</td>\n",
              "      <td>8</td>\n",
              "      <td>2</td>\n",
              "      <td>15</td>\n",
              "      <td>1</td>\n",
              "      <td>1</td>\n",
              "      <td>0</td>\n",
              "      <td>1</td>\n",
              "    </tr>\n",
              "  </tbody>\n",
              "</table>\n",
              "<p>5 rows × 21 columns</p>\n",
              "</div>\n",
              "      <button class=\"colab-df-convert\" onclick=\"convertToInteractive('df-38797f1e-037c-4671-bfa7-6f4bb6117354')\"\n",
              "              title=\"Convert this dataframe to an interactive table.\"\n",
              "              style=\"display:none;\">\n",
              "        \n",
              "  <svg xmlns=\"http://www.w3.org/2000/svg\" height=\"24px\"viewBox=\"0 0 24 24\"\n",
              "       width=\"24px\">\n",
              "    <path d=\"M0 0h24v24H0V0z\" fill=\"none\"/>\n",
              "    <path d=\"M18.56 5.44l.94 2.06.94-2.06 2.06-.94-2.06-.94-.94-2.06-.94 2.06-2.06.94zm-11 1L8.5 8.5l.94-2.06 2.06-.94-2.06-.94L8.5 2.5l-.94 2.06-2.06.94zm10 10l.94 2.06.94-2.06 2.06-.94-2.06-.94-.94-2.06-.94 2.06-2.06.94z\"/><path d=\"M17.41 7.96l-1.37-1.37c-.4-.4-.92-.59-1.43-.59-.52 0-1.04.2-1.43.59L10.3 9.45l-7.72 7.72c-.78.78-.78 2.05 0 2.83L4 21.41c.39.39.9.59 1.41.59.51 0 1.02-.2 1.41-.59l7.78-7.78 2.81-2.81c.8-.78.8-2.07 0-2.86zM5.41 20L4 18.59l7.72-7.72 1.47 1.35L5.41 20z\"/>\n",
              "  </svg>\n",
              "      </button>\n",
              "      \n",
              "  <style>\n",
              "    .colab-df-container {\n",
              "      display:flex;\n",
              "      flex-wrap:wrap;\n",
              "      gap: 12px;\n",
              "    }\n",
              "\n",
              "    .colab-df-convert {\n",
              "      background-color: #E8F0FE;\n",
              "      border: none;\n",
              "      border-radius: 50%;\n",
              "      cursor: pointer;\n",
              "      display: none;\n",
              "      fill: #1967D2;\n",
              "      height: 32px;\n",
              "      padding: 0 0 0 0;\n",
              "      width: 32px;\n",
              "    }\n",
              "\n",
              "    .colab-df-convert:hover {\n",
              "      background-color: #E2EBFA;\n",
              "      box-shadow: 0px 1px 2px rgba(60, 64, 67, 0.3), 0px 1px 3px 1px rgba(60, 64, 67, 0.15);\n",
              "      fill: #174EA6;\n",
              "    }\n",
              "\n",
              "    [theme=dark] .colab-df-convert {\n",
              "      background-color: #3B4455;\n",
              "      fill: #D2E3FC;\n",
              "    }\n",
              "\n",
              "    [theme=dark] .colab-df-convert:hover {\n",
              "      background-color: #434B5C;\n",
              "      box-shadow: 0px 1px 3px 1px rgba(0, 0, 0, 0.15);\n",
              "      filter: drop-shadow(0px 1px 2px rgba(0, 0, 0, 0.3));\n",
              "      fill: #FFFFFF;\n",
              "    }\n",
              "  </style>\n",
              "\n",
              "      <script>\n",
              "        const buttonEl =\n",
              "          document.querySelector('#df-38797f1e-037c-4671-bfa7-6f4bb6117354 button.colab-df-convert');\n",
              "        buttonEl.style.display =\n",
              "          google.colab.kernel.accessAllowed ? 'block' : 'none';\n",
              "\n",
              "        async function convertToInteractive(key) {\n",
              "          const element = document.querySelector('#df-38797f1e-037c-4671-bfa7-6f4bb6117354');\n",
              "          const dataTable =\n",
              "            await google.colab.kernel.invokeFunction('convertToInteractive',\n",
              "                                                     [key], {});\n",
              "          if (!dataTable) return;\n",
              "\n",
              "          const docLinkHtml = 'Like what you see? Visit the ' +\n",
              "            '<a target=\"_blank\" href=https://colab.research.google.com/notebooks/data_table.ipynb>data table notebook</a>'\n",
              "            + ' to learn more about interactive tables.';\n",
              "          element.innerHTML = '';\n",
              "          dataTable['output_type'] = 'display_data';\n",
              "          await google.colab.output.renderOutput(dataTable, element);\n",
              "          const docLink = document.createElement('div');\n",
              "          docLink.innerHTML = docLinkHtml;\n",
              "          element.appendChild(docLink);\n",
              "        }\n",
              "      </script>\n",
              "    </div>\n",
              "  </div>\n",
              "  "
            ]
          },
          "metadata": {},
          "execution_count": 28
        }
      ]
    },
    {
      "cell_type": "code",
      "source": [
        "mobile_price['price_range'].unique()"
      ],
      "metadata": {
        "colab": {
          "base_uri": "https://localhost:8080/"
        },
        "id": "8Q0ETsLX9QxE",
        "outputId": "38655040-3ffe-467c-9f8a-b5fcc15eae64"
      },
      "execution_count": 29,
      "outputs": [
        {
          "output_type": "execute_result",
          "data": {
            "text/plain": [
              "array([1, 2, 3, 0])"
            ]
          },
          "metadata": {},
          "execution_count": 29
        }
      ]
    },
    {
      "cell_type": "code",
      "source": [
        "mobile_price.columns"
      ],
      "metadata": {
        "colab": {
          "base_uri": "https://localhost:8080/"
        },
        "id": "EsISh9Nf6pJq",
        "outputId": "19b60e94-497f-49c9-fc82-2b919c4423b4"
      },
      "execution_count": 30,
      "outputs": [
        {
          "output_type": "execute_result",
          "data": {
            "text/plain": [
              "Index(['battery_power', 'blue', 'clock_speed', 'dual_sim', 'fc', 'four_g',\n",
              "       'int_memory', 'm_dep', 'mobile_wt', 'n_cores', 'pc', 'px_height',\n",
              "       'px_width', 'ram', 'sc_h', 'sc_w', 'talk_time', 'three_g',\n",
              "       'touch_screen', 'wifi', 'price_range'],\n",
              "      dtype='object')"
            ]
          },
          "metadata": {},
          "execution_count": 30
        }
      ]
    },
    {
      "cell_type": "code",
      "source": [
        "# 전처리 작업\n",
        "columns = mobile_price.columns\n",
        "\n",
        "X = mobile_price[columns]\n",
        "# price : 예측하려고하는 y값 = x에서 빼주기\n",
        "y = mobile_price[columns[-1]]\n",
        "\n",
        "SC = StandardScaler()\n",
        "X = SC.fit_transform(X)\n",
        "\n",
        "x_train, x_test, y_train, y_test = train_test_split(X,y,test_size=0.1, random_state=0)\n"
      ],
      "metadata": {
        "id": "pyOUa-9G6vLa"
      },
      "execution_count": 31,
      "outputs": []
    },
    {
      "cell_type": "code",
      "source": [
        "print(len(x_train),len(x_test))"
      ],
      "metadata": {
        "colab": {
          "base_uri": "https://localhost:8080/"
        },
        "id": "K8KEV_jx8Nll",
        "outputId": "c914fd43-8e6d-4614-cc47-1b921c1fa23c"
      },
      "execution_count": 32,
      "outputs": [
        {
          "output_type": "stream",
          "name": "stdout",
          "text": [
            "1800 200\n"
          ]
        }
      ]
    },
    {
      "cell_type": "code",
      "source": [
        "# 모델 생성\n",
        "\n",
        "for i in range(1, 12):\n",
        "  knn_model=KNeighborsClassifier(n_neighbors=i,\n",
        "                                metric='manhattan').fit(x_train, y_train)\n",
        "  print(knn_model.score(x_train, y_train))\n",
        "  print(knn_model.score(x_test, y_test))\n",
        "  "
      ],
      "metadata": {
        "colab": {
          "base_uri": "https://localhost:8080/"
        },
        "id": "Q06mNGdO8Rke",
        "outputId": "466a0174-2f11-48d1-a062-430633e8e932"
      },
      "execution_count": 33,
      "outputs": [
        {
          "output_type": "stream",
          "name": "stdout",
          "text": [
            "1.0\n",
            "0.675\n",
            "0.86\n",
            "0.67\n",
            "0.9088888888888889\n",
            "0.745\n",
            "0.9066666666666666\n",
            "0.79\n",
            "0.9105555555555556\n",
            "0.84\n",
            "0.91\n",
            "0.865\n",
            "0.9277777777777778\n",
            "0.855\n",
            "0.9266666666666666\n",
            "0.87\n",
            "0.9327777777777778\n",
            "0.885\n",
            "0.9394444444444444\n",
            "0.9\n",
            "0.9405555555555556\n",
            "0.905\n"
          ]
        }
      ]
    },
    {
      "cell_type": "code",
      "source": [
        "  # 위의 결과를 보고 젤 확률 높은 n=8일때 값을 가져옴\n",
        "  \n",
        "  knn_model=KNeighborsClassifier(n_neighbors=8,\n",
        "                                metric='manhattan').fit(x_train, y_train)"
      ],
      "metadata": {
        "id": "fb49yaim88QQ"
      },
      "execution_count": 34,
      "outputs": []
    },
    {
      "cell_type": "code",
      "source": [
        "knn_model.predict_proba(x_test)[0]"
      ],
      "metadata": {
        "colab": {
          "base_uri": "https://localhost:8080/"
        },
        "id": "fwC0zJY99B-N",
        "outputId": "63afc350-0ebe-4eef-b8cd-4cf3b2736a47"
      },
      "execution_count": 35,
      "outputs": [
        {
          "output_type": "execute_result",
          "data": {
            "text/plain": [
              "array([0.  , 0.  , 0.25, 0.75])"
            ]
          },
          "metadata": {},
          "execution_count": 35
        }
      ]
    },
    {
      "cell_type": "code",
      "source": [
        "knn_model.predict(x_test)[0]\n",
        "# 결과는 위의 array([0.  , 0.  , 0.25, 0.75]) 에서 젤 높은 0.75자리인 3(라벨링값) 이 나옴"
      ],
      "metadata": {
        "colab": {
          "base_uri": "https://localhost:8080/"
        },
        "id": "wT1KufT59IF-",
        "outputId": "1aba0402-d53a-4cd5-b68e-ea6d65975b5a"
      },
      "execution_count": 36,
      "outputs": [
        {
          "output_type": "execute_result",
          "data": {
            "text/plain": [
              "3"
            ]
          },
          "metadata": {},
          "execution_count": 36
        }
      ]
    }
  ]
}