{
  "nbformat": 4,
  "nbformat_minor": 0,
  "metadata": {
    "colab": {
      "provenance": [],
      "authorship_tag": "ABX9TyPAPpjgWp9aikV1uNjlbvLi",
      "include_colab_link": true
    },
    "kernelspec": {
      "name": "python3",
      "display_name": "Python 3"
    },
    "language_info": {
      "name": "python"
    }
  },
  "cells": [
    {
      "cell_type": "markdown",
      "metadata": {
        "id": "view-in-github",
        "colab_type": "text"
      },
      "source": [
        "<a href=\"https://colab.research.google.com/github/SeungHyunKee/Python/blob/main/%ED%8C%8C%EC%9D%BC%EA%B3%B5%EC%9C%A0sh.ipynb\" target=\"_parent\"><img src=\"https://colab.research.google.com/assets/colab-badge.svg\" alt=\"Open In Colab\"/></a>"
      ]
    },
    {
      "cell_type": "code",
      "execution_count": 12,
      "metadata": {
        "colab": {
          "base_uri": "https://localhost:8080/"
        },
        "id": "0rTwgb9Kfl3a",
        "outputId": "c708d050-9f69-46ce-a576-eeb89de15c72"
      },
      "outputs": [
        {
          "output_type": "stream",
          "name": "stdout",
          "text": [
            "Looking in indexes: https://pypi.org/simple, https://us-python.pkg.dev/colab-wheels/public/simple/\n",
            "Requirement already satisfied: azure-storage-file in /usr/local/lib/python3.7/dist-packages (2.1.0)\n",
            "Requirement already satisfied: azure-storage-common~=2.1 in /usr/local/lib/python3.7/dist-packages (from azure-storage-file) (2.1.0)\n",
            "Requirement already satisfied: azure-common>=1.1.5 in /usr/local/lib/python3.7/dist-packages (from azure-storage-file) (1.1.28)\n",
            "Requirement already satisfied: cryptography in /usr/local/lib/python3.7/dist-packages (from azure-storage-common~=2.1->azure-storage-file) (38.0.3)\n",
            "Requirement already satisfied: requests in /usr/local/lib/python3.7/dist-packages (from azure-storage-common~=2.1->azure-storage-file) (2.23.0)\n",
            "Requirement already satisfied: python-dateutil in /usr/local/lib/python3.7/dist-packages (from azure-storage-common~=2.1->azure-storage-file) (2.8.2)\n",
            "Requirement already satisfied: cffi>=1.12 in /usr/local/lib/python3.7/dist-packages (from cryptography->azure-storage-common~=2.1->azure-storage-file) (1.15.1)\n",
            "Requirement already satisfied: pycparser in /usr/local/lib/python3.7/dist-packages (from cffi>=1.12->cryptography->azure-storage-common~=2.1->azure-storage-file) (2.21)\n",
            "Requirement already satisfied: six>=1.5 in /usr/local/lib/python3.7/dist-packages (from python-dateutil->azure-storage-common~=2.1->azure-storage-file) (1.15.0)\n",
            "Requirement already satisfied: chardet<4,>=3.0.2 in /usr/local/lib/python3.7/dist-packages (from requests->azure-storage-common~=2.1->azure-storage-file) (3.0.4)\n",
            "Requirement already satisfied: idna<3,>=2.5 in /usr/local/lib/python3.7/dist-packages (from requests->azure-storage-common~=2.1->azure-storage-file) (2.10)\n",
            "Requirement already satisfied: certifi>=2017.4.17 in /usr/local/lib/python3.7/dist-packages (from requests->azure-storage-common~=2.1->azure-storage-file) (2022.9.24)\n",
            "Requirement already satisfied: urllib3!=1.25.0,!=1.25.1,<1.26,>=1.21.1 in /usr/local/lib/python3.7/dist-packages (from requests->azure-storage-common~=2.1->azure-storage-file) (1.24.3)\n"
          ]
        }
      ],
      "source": [
        "!pip install azure-storage-file"
      ]
    },
    {
      "cell_type": "code",
      "source": [
        "# file share 연결하는 코드\n",
        "\n",
        "from azure.storage.file import FileService\n",
        "file_service = FileService(account_name='labuser24storage',\n",
        "                           account_key='MbcJ5WXuvitzJkVjncMjqHl9PvHehY356LoN0kj5RlmRVMEgysjMnsy9vNnYLI8vEph0V0XGmXxT+AStjy0yNg==')"
      ],
      "metadata": {
        "id": "a3yaBCItfnj1"
      },
      "execution_count": 13,
      "outputs": []
    },
    {
      "cell_type": "code",
      "source": [
        "# myshre 공유 폴더를 생성\n",
        "\n",
        "file_service.create_share('myshare')   # myshare라는 파일 만들기"
      ],
      "metadata": {
        "colab": {
          "base_uri": "https://localhost:8080/"
        },
        "id": "tsmwCltIfqeM",
        "outputId": "2bd5f2e5-54ef-4935-95f9-030b00fb5c2f"
      },
      "execution_count": 14,
      "outputs": [
        {
          "output_type": "execute_result",
          "data": {
            "text/plain": [
              "False"
            ]
          },
          "metadata": {},
          "execution_count": 14
        }
      ]
    },
    {
      "cell_type": "code",
      "source": [
        "# myshare 안에 샘플 디렉토리인 sampledir을 생성한다. \n",
        "\n",
        "file_service.create_directory('myshare','sampledir')"
      ],
      "metadata": {
        "colab": {
          "base_uri": "https://localhost:8080/"
        },
        "id": "FmEBFZ70ftQy",
        "outputId": "5c34aeac-0349-4221-8083-abe9029c1bb1"
      },
      "execution_count": 15,
      "outputs": [
        {
          "output_type": "execute_result",
          "data": {
            "text/plain": [
              "False"
            ]
          },
          "metadata": {},
          "execution_count": 15
        }
      ]
    },
    {
      "cell_type": "code",
      "source": [
        "# IU.jpg를 myfile로 해당 공유 폴더에 복사한다. \n",
        "\n",
        "from azure.storage.file import ContentSettings  \n",
        "# 파일의 종류에 따라 파일을 다루는방법이 달라지기때문에 contents 먼저 세팅 해줘야됨  \n",
        "\n",
        "file_service.create_file_from_path('myshare',   # 이 경로에있는 파일을 사용하겠다\n",
        "                                   None,\n",
        "                                   'myfile',\n",
        "                                   'IU.jpg',    # IU 이미지 업로드 하기(코랩안에서 IU이름 사진 업로드하기)\n",
        "                                   content_settings=ContentSettings(content_type='image/jpg'))"
      ],
      "metadata": {
        "id": "bk3v52Wlfual"
      },
      "execution_count": 16,
      "outputs": []
    },
    {
      "cell_type": "code",
      "source": [
        "# 공유 폴더안에 파일 목록을 가져와서 보여준다.\n",
        "\n",
        "\n",
        "generator = file_service.list_directories_and_files('myshare')   # 파일의 경로 가지고온다\n",
        "for file_or_dir in generator:\n",
        "  print(file_or_dir.name)    # 파일의 목록이 나타남"
      ],
      "metadata": {
        "colab": {
          "base_uri": "https://localhost:8080/"
        },
        "id": "hHg-8AT6fvHm",
        "outputId": "cd5d8b8a-f397-47a0-eb38-74bf9853724a"
      },
      "execution_count": 17,
      "outputs": [
        {
          "output_type": "stream",
          "name": "stdout",
          "text": [
            "myfile\n",
            "sampledir\n"
          ]
        }
      ]
    },
    {
      "cell_type": "code",
      "source": [
        "# 다시 myfile로 복사된 IU.jpg를 out-IU.jpg로 가져온다. \n",
        "\n",
        "\n",
        "file_service.get_file_to_path('myshare',None,'myfile','out-IU.jpg')   # 파일 가져오기"
      ],
      "metadata": {
        "colab": {
          "base_uri": "https://localhost:8080/"
        },
        "id": "Rz-TD4qjfyPa",
        "outputId": "054ad2dd-49d7-4db9-e0b0-ba4dc7880558"
      },
      "execution_count": 18,
      "outputs": [
        {
          "output_type": "execute_result",
          "data": {
            "text/plain": [
              "<azure.storage.file.models.File at 0x7fa72e0cf790>"
            ]
          },
          "metadata": {},
          "execution_count": 18
        }
      ]
    },
    {
      "cell_type": "code",
      "source": [
        "# 스넵샷을 찍어둔다. \n",
        "\n",
        "metadata = {\"foo\":\"bar\"}\n",
        "snapshot = file_service.snapshot_share('myshare', metadata = metadata)"
      ],
      "metadata": {
        "id": "2-D4k6HvntUL"
      },
      "execution_count": 19,
      "outputs": []
    },
    {
      "cell_type": "code",
      "source": [
        "# 전체 스넵샷의 목록을 가져온다. \n",
        "\n",
        "shares = list(file_service.list_shares(include_snapshots=True))\n",
        "\n",
        "for s in shares:\n",
        "  print(s.snapshot)"
      ],
      "metadata": {
        "colab": {
          "base_uri": "https://localhost:8080/"
        },
        "id": "Ww-F8pF4oMhz",
        "outputId": "2572bcb7-9af2-45c3-8bd1-74afba799d61"
      },
      "execution_count": 20,
      "outputs": [
        {
          "output_type": "stream",
          "name": "stdout",
          "text": [
            "2022-11-08T00:21:39.0000000Z\n",
            "2022-11-08T00:27:43.0000000Z\n",
            "2022-11-08T00:37:27.0000000Z\n",
            "None\n"
          ]
        }
      ]
    },
    {
      "cell_type": "code",
      "source": [
        "# 스넵샷의 파일과 디렉토리 목록을 가져온다. \n",
        "\n",
        "directories_and_files = list(\n",
        "    file_service.list_directories_and_files('myshare', snapshot='2022-11-08T00:27:43.0000000Z'))"
      ],
      "metadata": {
        "id": "bOAwXhfBoNFj"
      },
      "execution_count": 21,
      "outputs": []
    },
    {
      "cell_type": "code",
      "source": [
        "# 파일과 디렉토리 목록을 출력한다. \n",
        "\n",
        "directories_and_files\n",
        "for file_or_dir in generator:\n",
        "    print(file_or_dir.name)"
      ],
      "metadata": {
        "colab": {
          "base_uri": "https://localhost:8080/"
        },
        "id": "hEtZoyacoNZr",
        "outputId": "533cd2a1-3459-44cd-d90e-f086a683261b"
      },
      "execution_count": 22,
      "outputs": [
        {
          "output_type": "stream",
          "name": "stdout",
          "text": [
            "myfile\n",
            "sampledir\n"
          ]
        }
      ]
    },
    {
      "cell_type": "code",
      "source": [
        "# 스넵샷의 삭제\n",
        "\n",
        "file_service.delete_share('myshare', snapshot='2022-11-08T00:27:43.0000000Z')"
      ],
      "metadata": {
        "colab": {
          "base_uri": "https://localhost:8080/"
        },
        "id": "y1ove5CSoN0g",
        "outputId": "e642dc3b-876b-4d32-d746-d6b51ee2944f"
      },
      "execution_count": 23,
      "outputs": [
        {
          "output_type": "execute_result",
          "data": {
            "text/plain": [
              "True"
            ]
          },
          "metadata": {},
          "execution_count": 23
        }
      ]
    },
    {
      "cell_type": "code",
      "source": [
        "# 공유폴더내의 파일의 삭제\n",
        "\n",
        "file_service.delete_file('myshare', None, 'myfile')"
      ],
      "metadata": {
        "id": "QkwTN90Vqy4S"
      },
      "execution_count": 24,
      "outputs": []
    },
    {
      "cell_type": "code",
      "source": [
        "# 공유폴더를 통채로 지우는것  \n",
        "# 이 단계는 에저-파일공유-스냅샷 에서 실제 파일을 삭제한 뒤 실행시켜야 에러가 안난다\n",
        "\n",
        "file_service.delete_share('myshare')"
      ],
      "metadata": {
        "id": "3iHwoJ-fq2vz"
      },
      "execution_count": null,
      "outputs": []
    }
  ]
}