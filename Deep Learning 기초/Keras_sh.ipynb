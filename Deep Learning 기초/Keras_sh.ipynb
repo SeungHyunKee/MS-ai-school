{
  "nbformat": 4,
  "nbformat_minor": 0,
  "metadata": {
    "colab": {
      "provenance": [],
      "authorship_tag": "ABX9TyP3yh5y24eTFMrJXeDPWsCT",
      "include_colab_link": true
    },
    "kernelspec": {
      "name": "python3",
      "display_name": "Python 3"
    },
    "language_info": {
      "name": "python"
    }
  },
  "cells": [
    {
      "cell_type": "markdown",
      "metadata": {
        "id": "view-in-github",
        "colab_type": "text"
      },
      "source": [
        "<a href=\"https://colab.research.google.com/github/SeungHyunKee/Python/blob/main/Keras_sh.ipynb\" target=\"_parent\"><img src=\"https://colab.research.google.com/assets/colab-badge.svg\" alt=\"Open In Colab\"/></a>"
      ]
    },
    {
      "cell_type": "code",
      "execution_count": 34,
      "metadata": {
        "id": "1MNLJa1Uwe62"
      },
      "outputs": [],
      "source": [
        "from keras.datasets import mnist"
      ]
    },
    {
      "cell_type": "code",
      "source": [
        "(train_images, train_labels),(test_images, test_labels) = mnist.load_data()"
      ],
      "metadata": {
        "id": "Oxe13Fpfw-ot"
      },
      "execution_count": 35,
      "outputs": []
    },
    {
      "cell_type": "code",
      "source": [
        "train_images.shape    # 6만개의 데이터, 실제한장의 사진크기는 28*28"
      ],
      "metadata": {
        "colab": {
          "base_uri": "https://localhost:8080/"
        },
        "id": "fPz1PkOtxZm2",
        "outputId": "7b30a731-5a67-4447-e937-9acc0f0c1d8f"
      },
      "execution_count": 3,
      "outputs": [
        {
          "output_type": "execute_result",
          "data": {
            "text/plain": [
              "(60000, 28, 28)"
            ]
          },
          "metadata": {},
          "execution_count": 3
        }
      ]
    },
    {
      "cell_type": "code",
      "source": [
        "len(train_labels)  # 라벨데이티가 6만개 준비되어있음"
      ],
      "metadata": {
        "colab": {
          "base_uri": "https://localhost:8080/"
        },
        "id": "tB6bSZ5Ixlqo",
        "outputId": "39d8c83b-7fac-449f-9dae-724d79ae7cd9"
      },
      "execution_count": 4,
      "outputs": [
        {
          "output_type": "execute_result",
          "data": {
            "text/plain": [
              "60000"
            ]
          },
          "metadata": {},
          "execution_count": 4
        }
      ]
    },
    {
      "cell_type": "code",
      "source": [
        "test_images.shape"
      ],
      "metadata": {
        "colab": {
          "base_uri": "https://localhost:8080/"
        },
        "id": "DAD-WxuoxoCe",
        "outputId": "72216b93-0f45-4a3d-d84f-59e72b9aad59"
      },
      "execution_count": 5,
      "outputs": [
        {
          "output_type": "execute_result",
          "data": {
            "text/plain": [
              "(10000, 28, 28)"
            ]
          },
          "metadata": {},
          "execution_count": 5
        }
      ]
    },
    {
      "cell_type": "code",
      "source": [
        "# 케라스에서 2가지 불러옴\n",
        "from keras import models\n",
        "from keras import layers\n",
        "\n",
        "# 어떤모델을 쓸건지는 신경망에 따라 결정됨\n",
        "\n",
        "network = models.Sequential()       # .Sequential : 이제부터는 순차적으로 신경망을 하나씩 만들것이다\n",
        "\n",
        "network.add(layers.Dense(512, activation='relu', input_shape = (28 * 28,)))     \n",
        "# 일반적인 layer = dense layer,  # relu = 일반적으로 가장 잘 맞는 방식\n",
        "# input_shape = (28*28,) 로 표현하는이유 = 이 자리에 입력되는값은 2차원형태로 넣어줘야하기 때문\n",
        "\n",
        "network.add(layers.Dense(10, activation = 'softmax'))       # 2개짜리 레이어"
      ],
      "metadata": {
        "id": "rBJoznbbxxoX"
      },
      "execution_count": 8,
      "outputs": []
    },
    {
      "cell_type": "code",
      "source": [
        "# compile 시킬때 3가지 옵션을 줘야함\n",
        "network.compile(optimizer='rmsprop',  # 최적화 => optimizer의 종류에따라 달라짐\n",
        "                loss='categorical_crossentropy',      # 소실값 측정하는 카테고리 -> 이진분류문제에선 binary classical crossentropy?\n",
        "                metrics=['accuracy'])    # 정확도 기준 평가"
      ],
      "metadata": {
        "id": "4AAyOzdix6sW"
      },
      "execution_count": 36,
      "outputs": []
    },
    {
      "cell_type": "code",
      "source": [
        "# 데이터 타입의 변환\n",
        "# (60000, (28, 28)) 이 데이터를  --> ( 60000, 784 )로 차원 줄여서 사용한다(컴퓨터가 이해를 더 쉽게한다)\n",
        "\n",
        "train_images = train_images.reshape((60000, 28*28))\n",
        "train_images = train_images.astype('float32') / 255  # 0붙터 255까지의값을 255로 나눠서 보기 편하게 다 소수점임\n",
        "# # 0번 데이터 보기\n",
        "# print(train_images[0])\n",
        "\n",
        "# 테스트용 데이터\n",
        "test_images = test_images.reshape((10000, 28*28))\n",
        "test_images = test_images.astype('float32')  / 255"
      ],
      "metadata": {
        "id": "EPHbCYMq5XLR"
      },
      "execution_count": 37,
      "outputs": []
    },
    {
      "cell_type": "code",
      "source": [
        "# 분류형 데이터의 설정 \n",
        "# (학습용, 테스트용 데이터에 의미부여하지마! 라는의미..?)\n",
        "from tensorflow.keras.utils import to_categorical\n",
        "\n",
        "train_labels = to_categorical(train_labels)\n",
        "test_labels = to_categorical(test_labels)"
      ],
      "metadata": {
        "id": "jl1sbHfq5xI0"
      },
      "execution_count": 38,
      "outputs": []
    },
    {
      "cell_type": "code",
      "source": [
        "network.fit(train_images, train_labels, epochs=5, batch_size=128)   # epochs : 반복횟수, accuracy "
      ],
      "metadata": {
        "colab": {
          "base_uri": "https://localhost:8080/"
        },
        "id": "H4gEvI3877a7",
        "outputId": "22fdddb8-f67d-4979-9810-cbf4762a65da"
      },
      "execution_count": 39,
      "outputs": [
        {
          "output_type": "stream",
          "name": "stdout",
          "text": [
            "Epoch 1/5\n",
            "469/469 [==============================] - 7s 13ms/step - loss: 0.2541 - accuracy: 0.9263\n",
            "Epoch 2/5\n",
            "469/469 [==============================] - 9s 18ms/step - loss: 0.1028 - accuracy: 0.9697\n",
            "Epoch 3/5\n",
            "469/469 [==============================] - 5s 11ms/step - loss: 0.0677 - accuracy: 0.9796\n",
            "Epoch 4/5\n",
            "469/469 [==============================] - 5s 11ms/step - loss: 0.0488 - accuracy: 0.9854\n",
            "Epoch 5/5\n",
            "469/469 [==============================] - 5s 11ms/step - loss: 0.0374 - accuracy: 0.9890\n"
          ]
        },
        {
          "output_type": "execute_result",
          "data": {
            "text/plain": [
              "<keras.callbacks.History at 0x7fe79c23ff50>"
            ]
          },
          "metadata": {},
          "execution_count": 39
        }
      ]
    },
    {
      "cell_type": "code",
      "source": [
        "# 평가\n",
        "test_loss, test_acc = network.evaluate(test_images, test_labels)"
      ],
      "metadata": {
        "colab": {
          "base_uri": "https://localhost:8080/"
        },
        "id": "QrkMs7fT8w_a",
        "outputId": "dcf85faa-346d-4b9a-91c3-afb60c427530"
      },
      "execution_count": 41,
      "outputs": [
        {
          "output_type": "stream",
          "name": "stdout",
          "text": [
            "313/313 [==============================] - 2s 7ms/step - loss: 0.0749 - accuracy: 0.9780\n"
          ]
        }
      ]
    },
    {
      "cell_type": "code",
      "source": [
        "print('test_acc: ', test_acc)   # 97.7%"
      ],
      "metadata": {
        "colab": {
          "base_uri": "https://localhost:8080/"
        },
        "id": "qm4kqGrqN8TJ",
        "outputId": "bf9d21ec-3fe8-45dd-c563-d398b34757de"
      },
      "execution_count": 42,
      "outputs": [
        {
          "output_type": "stream",
          "name": "stdout",
          "text": [
            "test_acc:  0.9779999852180481\n"
          ]
        }
      ]
    }
  ]
}