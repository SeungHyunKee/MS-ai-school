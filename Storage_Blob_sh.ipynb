{
  "nbformat": 4,
  "nbformat_minor": 0,
  "metadata": {
    "colab": {
      "provenance": [],
      "authorship_tag": "ABX9TyM5G/Rt2N/PkDIvYQEK/rbs",
      "include_colab_link": true
    },
    "kernelspec": {
      "name": "python3",
      "display_name": "Python 3"
    },
    "language_info": {
      "name": "python"
    }
  },
  "cells": [
    {
      "cell_type": "markdown",
      "metadata": {
        "id": "view-in-github",
        "colab_type": "text"
      },
      "source": [
        "<a href=\"https://colab.research.google.com/github/SeungHyunKee/Python/blob/main/Storage_Blob_sh.ipynb\" target=\"_parent\"><img src=\"https://colab.research.google.com/assets/colab-badge.svg\" alt=\"Open In Colab\"/></a>"
      ]
    },
    {
      "cell_type": "code",
      "execution_count": null,
      "metadata": {
        "colab": {
          "base_uri": "https://localhost:8080/"
        },
        "id": "iW4g1g_wtc5I",
        "outputId": "f9d4a55a-0fdc-4cb3-dc1d-5e333926b43a"
      },
      "outputs": [
        {
          "output_type": "stream",
          "name": "stdout",
          "text": [
            "Looking in indexes: https://pypi.org/simple, https://us-python.pkg.dev/colab-wheels/public/simple/\n",
            "Collecting azure-storage-blob\n",
            "  Downloading azure_storage_blob-12.14.1-py3-none-any.whl (383 kB)\n",
            "\u001b[K     |████████████████████████████████| 383 kB 5.1 MB/s \n",
            "\u001b[?25hCollecting cryptography>=2.1.4\n",
            "  Downloading cryptography-38.0.3-cp36-abi3-manylinux_2_24_x86_64.whl (4.1 MB)\n",
            "\u001b[K     |████████████████████████████████| 4.1 MB 47.7 MB/s \n",
            "\u001b[?25hCollecting msrest>=0.7.1\n",
            "  Downloading msrest-0.7.1-py3-none-any.whl (85 kB)\n",
            "\u001b[K     |████████████████████████████████| 85 kB 2.4 MB/s \n",
            "\u001b[?25hCollecting azure-core<2.0.0,>=1.24.2\n",
            "  Downloading azure_core-1.26.1-py3-none-any.whl (172 kB)\n",
            "\u001b[K     |████████████████████████████████| 172 kB 48.9 MB/s \n",
            "\u001b[?25hRequirement already satisfied: requests>=2.18.4 in /usr/local/lib/python3.7/dist-packages (from azure-core<2.0.0,>=1.24.2->azure-storage-blob) (2.23.0)\n",
            "Requirement already satisfied: six>=1.11.0 in /usr/local/lib/python3.7/dist-packages (from azure-core<2.0.0,>=1.24.2->azure-storage-blob) (1.15.0)\n",
            "Requirement already satisfied: typing-extensions>=4.0.1 in /usr/local/lib/python3.7/dist-packages (from azure-core<2.0.0,>=1.24.2->azure-storage-blob) (4.1.1)\n",
            "Requirement already satisfied: cffi>=1.12 in /usr/local/lib/python3.7/dist-packages (from cryptography>=2.1.4->azure-storage-blob) (1.15.1)\n",
            "Requirement already satisfied: pycparser in /usr/local/lib/python3.7/dist-packages (from cffi>=1.12->cryptography>=2.1.4->azure-storage-blob) (2.21)\n",
            "Requirement already satisfied: requests-oauthlib>=0.5.0 in /usr/local/lib/python3.7/dist-packages (from msrest>=0.7.1->azure-storage-blob) (1.3.1)\n",
            "Collecting isodate>=0.6.0\n",
            "  Downloading isodate-0.6.1-py2.py3-none-any.whl (41 kB)\n",
            "\u001b[K     |████████████████████████████████| 41 kB 237 kB/s \n",
            "\u001b[?25hRequirement already satisfied: certifi>=2017.4.17 in /usr/local/lib/python3.7/dist-packages (from msrest>=0.7.1->azure-storage-blob) (2022.9.24)\n",
            "Requirement already satisfied: urllib3!=1.25.0,!=1.25.1,<1.26,>=1.21.1 in /usr/local/lib/python3.7/dist-packages (from requests>=2.18.4->azure-core<2.0.0,>=1.24.2->azure-storage-blob) (1.24.3)\n",
            "Requirement already satisfied: idna<3,>=2.5 in /usr/local/lib/python3.7/dist-packages (from requests>=2.18.4->azure-core<2.0.0,>=1.24.2->azure-storage-blob) (2.10)\n",
            "Requirement already satisfied: chardet<4,>=3.0.2 in /usr/local/lib/python3.7/dist-packages (from requests>=2.18.4->azure-core<2.0.0,>=1.24.2->azure-storage-blob) (3.0.4)\n",
            "Requirement already satisfied: oauthlib>=3.0.0 in /usr/local/lib/python3.7/dist-packages (from requests-oauthlib>=0.5.0->msrest>=0.7.1->azure-storage-blob) (3.2.2)\n",
            "Installing collected packages: isodate, azure-core, msrest, cryptography, azure-storage-blob\n",
            "Successfully installed azure-core-1.26.1 azure-storage-blob-12.14.1 cryptography-38.0.3 isodate-0.6.1 msrest-0.7.1\n"
          ]
        }
      ],
      "source": [
        "!pip install azure-storage-blob"
      ]
    },
    {
      "cell_type": "code",
      "source": [
        "# 필요한 패키를 불러옵니다.\n",
        "# 파일을 다루기 위한, 임시변수를 다루기위한 패키지\n",
        "import os, uuid\n",
        "from azure.storage.blob import BlobServiceClient, BlobClient, ContainerClient"
      ],
      "metadata": {
        "id": "lK_UuskIuAcp"
      },
      "execution_count": null,
      "outputs": []
    },
    {
      "cell_type": "code",
      "source": [
        "# Blob 서비스에 연결합니다.\n",
        "# azure portal 에서 연결문자열 복사해온다\n",
        "connect_string = 'DefaultEndpointsProtocol=https;AccountName=labuser24storage;AccountKey=iMAJSIsjodbzWO0aGwxV5sATQJjt+ct9hRDYZHQI1zl/rX6F1YTvygO2+/5gGUtEqs9kCdVBJy34+AStqnoKjg==;EndpointSuffix=core.windows.net'\n",
        "\n",
        "# Blob서비스에 연결하기위해 만들기\n",
        "blob_service_client = BlobServiceClient.from_connection_string(connect_string)"
      ],
      "metadata": {
        "id": "jkVTyyzRu5Ce"
      },
      "execution_count": null,
      "outputs": []
    },
    {
      "cell_type": "code",
      "source": [
        "# container 생성한다\n",
        "container_name = str(uuid.uuid4())\n",
        "print(container_name)\n",
        "\n",
        "container_client = blob_service_client.create_container(container_name)"
      ],
      "metadata": {
        "colab": {
          "base_uri": "https://localhost:8080/"
        },
        "id": "K8ZuvBZMv3jY",
        "outputId": "0122edeb-5477-4146-a1f6-fb43708f8932"
      },
      "execution_count": null,
      "outputs": [
        {
          "output_type": "stream",
          "name": "stdout",
          "text": [
            "e6484c3e-c68d-4d36-822a-43f0aa27a118\n"
          ]
        }
      ]
    },
    {
      "cell_type": "code",
      "source": [
        "# 데이터를 업로드한다.\n",
        "\n",
        "local_path = './data'\n",
        "os.mkdir(local_path)\n",
        "\n",
        "local_file_name = str(uuid.uuid4()) + '.txt'\n",
        "#upload file의 전체경로 잡아준다\n",
        "upload_file_path = os.path.join(local_path, local_file_name)   # join = 두개의 경로를 합쳐 하나로 만들어줌"
      ],
      "metadata": {
        "id": "_bAlHIrKw1hi"
      },
      "execution_count": null,
      "outputs": []
    },
    {
      "cell_type": "code",
      "source": [
        "# 업로드할 파일을 준비한다.(테스트하기위해 파일 저장하는것)\n",
        "\n",
        "file = open(file=upload_file_path, mode = 'w')\n",
        "file.write('Hello Azure Storage')\n",
        "file.close()\n",
        "\n",
        "# blob을 만들고나서 (이제 파일을 만들거니) 파일이 들어갈 공간을 확보하는것\n",
        "blob_client = blob_service_client.get_blob_client(container = container_name,\n",
        "                                                  blob = local_file_name)\n",
        "\n",
        "# 파일 업로드 (binary 단위로 텍스트 읽어야 안깨짐)\n",
        "with open(file=upload_file_path, mode = 'rb') as data:  # rb = read읽는다, binary형태로\n",
        "  blob_client.upload_blob(data)"
      ],
      "metadata": {
        "id": "JWe4QSFxyBh8"
      },
      "execution_count": null,
      "outputs": []
    },
    {
      "cell_type": "code",
      "source": [
        "# 파일의 목록의 확인 \n",
        "blob_list = container_client.list_blobs()\n",
        "for blob in blob_list:\n",
        "  print('\\t' + blob.name)"
      ],
      "metadata": {
        "colab": {
          "base_uri": "https://localhost:8080/"
        },
        "id": "JAJNMu1Ozjtm",
        "outputId": "68d5d30a-657a-4f8c-85a1-1c94af28b6b5"
      },
      "execution_count": null,
      "outputs": [
        {
          "output_type": "stream",
          "name": "stdout",
          "text": [
            "\t18ce3482-797c-4c1a-aa20-f3347115a8ac.txt\n"
          ]
        }
      ]
    },
    {
      "cell_type": "code",
      "source": [
        "#업로드된 파일의 다운로드 \n",
        "download_file_path = os.path.join(local_path, \n",
        "                                  str.replace(local_file_name,'.txt','DOWNLOAD.txt'))\n",
        "# 다운로드 파일은 끝에 .txt가 될것\n",
        "container_client = blob_service_client.get_container_client(container = container_name)\n",
        "\n",
        "with open(file=download_file_path, mode = 'wb') as download_file:\n",
        "  download_file.write(container_client.download_blob(blob.name).readall()) # readall=전체데이터를 다운받아라\n",
        "    # container client 한테 blob속에있는 파일을 다운로드받게함"
      ],
      "metadata": {
        "id": "f1uEsuOJ1hhI"
      },
      "execution_count": null,
      "outputs": []
    },
    {
      "cell_type": "code",
      "source": [
        "# 실습한 자원의 정리\n",
        "print('Press the Enter key to begin clean up')\n",
        "input()\n",
        "\n",
        "print('Deleting blob container...')\n",
        "container_client.delete_container()\n",
        "\n",
        "print('Deleting the local source and downloaded files...')\n",
        "os.remove(upload_file_path)\n",
        "os.remove(download_file_path)\n",
        "os.rmdir(local_path)\n",
        "\n",
        "print('Done')"
      ],
      "metadata": {
        "colab": {
          "base_uri": "https://localhost:8080/"
        },
        "id": "RhEDIwlX3AZg",
        "outputId": "d00c8290-b430-43c6-fe91-c13ee48babe6"
      },
      "execution_count": null,
      "outputs": [
        {
          "output_type": "stream",
          "name": "stdout",
          "text": [
            "Press the Enter key to begin clean up\n",
            "\n",
            "Deleting blob container...\n",
            "Deleting the local source and downloaded files...\n",
            "Done\n"
          ]
        }
      ]
    },
    {
      "cell_type": "code",
      "source": [],
      "metadata": {
        "id": "4iOLSUFy7dEe"
      },
      "execution_count": null,
      "outputs": []
    }
  ]
}