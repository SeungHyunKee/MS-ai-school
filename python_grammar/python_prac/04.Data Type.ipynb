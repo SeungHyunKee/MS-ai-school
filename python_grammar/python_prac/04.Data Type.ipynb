{
 "cells": [
  {
   "cell_type": "code",
   "execution_count": 2,
   "id": "97fb1549",
   "metadata": {},
   "outputs": [
    {
     "name": "stdout",
     "output_type": "stream",
     "text": [
      "[1, 2, 3, 4, 5]\n",
      "4\n"
     ]
    }
   ],
   "source": [
    "# List\n",
    "a_list = [1,2,3,4,5]\n",
    "\n",
    "print(a_list)\n",
    "print(a_list[0])\n",
    "print(a_list[1])\n",
    "print(a_list[3])"
   ]
  },
  {
   "cell_type": "code",
   "execution_count": 3,
   "id": "91d6290c",
   "metadata": {
    "scrolled": true
   },
   "outputs": [
    {
     "name": "stdout",
     "output_type": "stream",
     "text": [
      "[1, 2]\n"
     ]
    }
   ],
   "source": [
    "# 슬라이싱\n",
    "print(a_list[:2]) # 2자리 앞부분을 다 가져와라\n"
   ]
  },
  {
   "cell_type": "code",
   "execution_count": 4,
   "id": "3c0cf763",
   "metadata": {
    "scrolled": true
   },
   "outputs": [
    {
     "name": "stdout",
     "output_type": "stream",
     "text": [
      "[3, 4, 5]\n"
     ]
    }
   ],
   "source": [
    "print(a_list[2:])  # 2부터 끝까지"
   ]
  },
  {
   "cell_type": "code",
   "execution_count": null,
   "id": "4263c627",
   "metadata": {},
   "outputs": [],
   "source": [
    "print(a_list[:]) # [:] : 리스트의 처음부터 끝까지"
   ]
  },
  {
   "cell_type": "code",
   "execution_count": 6,
   "id": "4e77b3c1",
   "metadata": {},
   "outputs": [
    {
     "name": "stdout",
     "output_type": "stream",
     "text": [
      "[2]\n",
      "[2, 4]\n"
     ]
    }
   ],
   "source": [
    "print(a_list[1:2:2]) # \n",
    "print(a_list[1::2]) # 1이후부분 다 가져와, + 2씩 증가 (= 처음에 2를 가져오고, 2를 뒤어넘어서 4를 가져옴, 그이후에 2뛰어넘는값 없으므로 결과값은 [2, 4] 임)\n"
   ]
  },
  {
   "cell_type": "code",
   "execution_count": 7,
   "id": "db5c793f",
   "metadata": {},
   "outputs": [
    {
     "name": "stdout",
     "output_type": "stream",
     "text": [
      "[10, 2, 3, 4, 5]\n"
     ]
    }
   ],
   "source": [
    "b = a_list\n",
    "b[0] = 10\n",
    "print(b)"
   ]
  },
  {
   "cell_type": "code",
   "execution_count": 8,
   "id": "e1aea9cb",
   "metadata": {},
   "outputs": [
    {
     "name": "stdout",
     "output_type": "stream",
     "text": [
      "[10, 2, 3, 4, 5]\n"
     ]
    }
   ],
   "source": [
    "print(a_list) # 앞에서 얘기한것처럼 b = a_list를통해 주소자체가 바뀌었으므로 이렇게 나옴ㅇ"
   ]
  },
  {
   "cell_type": "code",
   "execution_count": 10,
   "id": "e2ecb90c",
   "metadata": {},
   "outputs": [
    {
     "name": "stdout",
     "output_type": "stream",
     "text": [
      "[100, 2, 3, 4, 5]\n",
      "[10, 2, 3, 4, 5]\n"
     ]
    }
   ],
   "source": [
    "b = a_list[:]  # 이렇게하면 주소복사되는게 아니라, 값만 복사됨\n",
    "b[0] = 100\n",
    "print(b)\n",
    "print(a_list)   # b 와 a_list 는 전혀 다른것이 됨"
   ]
  },
  {
   "cell_type": "code",
   "execution_count": 3,
   "id": "041e7bde",
   "metadata": {},
   "outputs": [
    {
     "name": "stdout",
     "output_type": "stream",
     "text": [
      "[1, 2, 3]\n"
     ]
    }
   ],
   "source": [
    "b_list = [] # 리스트는 배열보다 유동적인 동작을 함\n",
    "\n",
    "# 리스트에 요소 추가하기 : list.append()\n",
    "b_list.append(1)\n",
    "b_list.append(2)\n",
    "b_list.append(3)\n",
    "\n",
    "print(b_list)"
   ]
  },
  {
   "cell_type": "code",
   "execution_count": 4,
   "id": "f574804f",
   "metadata": {},
   "outputs": [
    {
     "name": "stdout",
     "output_type": "stream",
     "text": [
      "[1, 2, 100, 3]\n"
     ]
    }
   ],
   "source": [
    "# 리스트에 요소 꽂아넣고싶을때 : list.insert(index, 값)\n",
    "\n",
    "b_list.insert(2, 100)  #2자리에 100을 꽂아넣겠다\n",
    "print(b_list)"
   ]
  },
  {
   "cell_type": "markdown",
   "id": "2828225c",
   "metadata": {},
   "source": [
    "# tuple"
   ]
  },
  {
   "cell_type": "code",
   "execution_count": 5,
   "id": "1b57d316",
   "metadata": {},
   "outputs": [
    {
     "name": "stdout",
     "output_type": "stream",
     "text": [
      "(1, 2, 3, 4, 5)\n"
     ]
    }
   ],
   "source": [
    "#튜플 : 배열형태 객체중 제일 가벼움\n",
    "a_tuple = (1,2,3,4,5)\n",
    "\n",
    "print(a_tuple)"
   ]
  },
  {
   "cell_type": "code",
   "execution_count": 6,
   "id": "7289bbe6",
   "metadata": {},
   "outputs": [
    {
     "ename": "TypeError",
     "evalue": "'tuple' object does not support item assignment",
     "output_type": "error",
     "traceback": [
      "\u001b[1;31m---------------------------------------------------------------------------\u001b[0m",
      "\u001b[1;31mTypeError\u001b[0m                                 Traceback (most recent call last)",
      "Input \u001b[1;32mIn [6]\u001b[0m, in \u001b[0;36m<cell line: 1>\u001b[1;34m()\u001b[0m\n\u001b[1;32m----> 1\u001b[0m a_tuple[\u001b[38;5;241m0\u001b[39m] \u001b[38;5;241m=\u001b[39m \u001b[38;5;241m10\u001b[39m\n",
      "\u001b[1;31mTypeError\u001b[0m: 'tuple' object does not support item assignment"
     ]
    }
   ],
   "source": [
    "# a_tuple[0] = 10"
   ]
  },
  {
   "cell_type": "code",
   "execution_count": 8,
   "id": "65a7e1d7",
   "metadata": {},
   "outputs": [
    {
     "name": "stdout",
     "output_type": "stream",
     "text": [
      "100 200\n"
     ]
    }
   ],
   "source": [
    "# 파이썬은 간단하게 값 바꿀수 있음\n",
    "\n",
    "a, b = b, a\n",
    "\n",
    "print(a, b)"
   ]
  },
  {
   "cell_type": "markdown",
   "id": "bc2a77fd",
   "metadata": {},
   "source": [
    "# Dictionary"
   ]
  },
  {
   "cell_type": "code",
   "execution_count": 9,
   "id": "2e88d486",
   "metadata": {},
   "outputs": [
    {
     "name": "stdout",
     "output_type": "stream",
     "text": [
      "{1: 'a', 'b': [1, 2, 3], 'c': 3}\n"
     ]
    }
   ],
   "source": [
    "# dictionary) 형태- {key : value} 형태로 데이터 표현하는것 : Jason\n",
    "\n",
    "a_dic = {1:'a', 'b':[1,2,3], 'c':3}\n",
    "\n",
    "print(a_dic)"
   ]
  },
  {
   "cell_type": "code",
   "execution_count": 10,
   "id": "a72ce042",
   "metadata": {},
   "outputs": [
    {
     "name": "stdout",
     "output_type": "stream",
     "text": [
      "a\n",
      "[1, 2, 3]\n",
      "3\n"
     ]
    }
   ],
   "source": [
    "print(a_dic[1])  #1이라는 키로 요청하면 value값 나옴\n",
    "print(a_dic['b'])\n",
    "print(a_dic['c'])"
   ]
  },
  {
   "cell_type": "code",
   "execution_count": 11,
   "id": "219358fe",
   "metadata": {},
   "outputs": [
    {
     "name": "stdout",
     "output_type": "stream",
     "text": [
      "{1: 'a', 'b': [1, 2, 3], 'c': 3, 'd': 'Microsoft AI School'}\n"
     ]
    }
   ],
   "source": [
    "a_dic['d'] = 'Microsoft AI School'\n",
    "print(a_dic)\n",
    "\n",
    "있는키에 추가하면 덮어쓰고, 없는키에 추가하면 추가됨"
   ]
  },
  {
   "cell_type": "code",
   "execution_count": 1,
   "id": "6fca4ce1",
   "metadata": {},
   "outputs": [
    {
     "name": "stdout",
     "output_type": "stream",
     "text": [
      "{1, 2, 3}\n",
      "<class 'set'>\n"
     ]
    }
   ],
   "source": [
    "# set\n",
    "\n",
    "a_set = {1,2,3}\n",
    "\n",
    "print(a_set)\n",
    "print(type(a_set))"
   ]
  },
  {
   "cell_type": "code",
   "execution_count": 2,
   "id": "8a763740",
   "metadata": {},
   "outputs": [],
   "source": [
    "b_set = {3,4,5}"
   ]
  },
  {
   "cell_type": "code",
   "execution_count": 3,
   "id": "be7f591e",
   "metadata": {},
   "outputs": [
    {
     "data": {
      "text/plain": [
       "{1, 2, 3, 4, 5}"
      ]
     },
     "execution_count": 3,
     "metadata": {},
     "output_type": "execute_result"
    }
   ],
   "source": [
    "a_set.union(b_set)  #합집합"
   ]
  },
  {
   "cell_type": "code",
   "execution_count": 4,
   "id": "68c51d32",
   "metadata": {},
   "outputs": [
    {
     "data": {
      "text/plain": [
       "{3}"
      ]
     },
     "execution_count": 4,
     "metadata": {},
     "output_type": "execute_result"
    }
   ],
   "source": [
    "a_set.intersection(b_set) # 교집합"
   ]
  },
  {
   "cell_type": "code",
   "execution_count": null,
   "id": "62a77006",
   "metadata": {},
   "outputs": [],
   "source": [
    " a_set - b_set  # 차집합"
   ]
  },
  {
   "cell_type": "code",
   "execution_count": null,
   "id": "3f046ead",
   "metadata": {},
   "outputs": [],
   "source": [
    "a_set | b_set "
   ]
  },
  {
   "cell_type": "code",
   "execution_count": null,
   "id": "447d9e47",
   "metadata": {},
   "outputs": [],
   "source": [
    "a_set &  b_set"
   ]
  },
  {
   "cell_type": "code",
   "execution_count": 7,
   "id": "7f15eb1c",
   "metadata": {},
   "outputs": [
    {
     "name": "stdout",
     "output_type": "stream",
     "text": [
      "<class 'set'>\n"
     ]
    }
   ],
   "source": [
    "# 부록\n",
    "\n",
    "a = set((1,2,3))\n",
    "print(type(a))"
   ]
  },
  {
   "cell_type": "code",
   "execution_count": 8,
   "id": "8db7699b",
   "metadata": {},
   "outputs": [
    {
     "name": "stdout",
     "output_type": "stream",
     "text": [
      "<class 'list'>\n"
     ]
    }
   ],
   "source": [
    "b = list(a)\n",
    "print(type(b))\n"
   ]
  },
  {
   "cell_type": "code",
   "execution_count": 9,
   "id": "f527b4fc",
   "metadata": {},
   "outputs": [
    {
     "name": "stdout",
     "output_type": "stream",
     "text": [
      "<class 'tuple'>\n"
     ]
    }
   ],
   "source": [
    "c = tuple(b)\n",
    "print(type(c))"
   ]
  },
  {
   "cell_type": "code",
   "execution_count": null,
   "id": "9e0ad173",
   "metadata": {},
   "outputs": [],
   "source": []
  },
  {
   "cell_type": "code",
   "execution_count": null,
   "id": "8932744c",
   "metadata": {},
   "outputs": [],
   "source": []
  },
  {
   "cell_type": "code",
   "execution_count": null,
   "id": "a46deb80",
   "metadata": {},
   "outputs": [],
   "source": []
  }
 ],
 "metadata": {
  "kernelspec": {
   "display_name": "Python 3 (ipykernel)",
   "language": "python",
   "name": "python3"
  },
  "language_info": {
   "codemirror_mode": {
    "name": "ipython",
    "version": 3
   },
   "file_extension": ".py",
   "mimetype": "text/x-python",
   "name": "python",
   "nbconvert_exporter": "python",
   "pygments_lexer": "ipython3",
   "version": "3.9.12"
  }
 },
 "nbformat": 4,
 "nbformat_minor": 5
}
