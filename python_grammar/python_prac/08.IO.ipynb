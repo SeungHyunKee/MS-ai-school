{
 "cells": [
  {
   "cell_type": "code",
   "execution_count": 1,
   "id": "1e10c3bb",
   "metadata": {},
   "outputs": [
    {
     "name": "stdout",
     "output_type": "stream",
     "text": [
      "Hello World\n"
     ]
    }
   ],
   "source": [
    "print(\"Hello World\")"
   ]
  },
  {
   "cell_type": "code",
   "execution_count": 2,
   "id": "cb56790d",
   "metadata": {},
   "outputs": [],
   "source": [
    "import sys"
   ]
  },
  {
   "cell_type": "code",
   "execution_count": 3,
   "id": "cddb7511",
   "metadata": {},
   "outputs": [
    {
     "name": "stderr",
     "output_type": "stream",
     "text": [
      "Welcome to Python\n"
     ]
    }
   ],
   "source": [
    "print(\"Welcome to\", \"Python\", file = sys.stderr) \n",
    "## 이렇게 결과가 빨간배경은 : 표준에러로 출력하는것임"
   ]
  },
  {
   "cell_type": "code",
   "execution_count": 4,
   "id": "05a12af0",
   "metadata": {},
   "outputs": [],
   "source": [
    "f = open('test.txt', 'w')   \n",
    "# 이렇게하는순간 새로운파일이 하나 생성이됨,\n",
    "# 'w' : 파일이 쓰기모드로 열림\n"
   ]
  },
  {
   "cell_type": "code",
   "execution_count": 7,
   "id": "7900c4eb",
   "metadata": {},
   "outputs": [],
   "source": [
    "print('file write', file=f)\n",
    "f.close()  # 파일을 열어줬음 꼭 닫아줘야함"
   ]
  },
  {
   "cell_type": "markdown",
   "id": "9d776df2",
   "metadata": {},
   "source": [
    "## File IO\n",
    "file 입출력을 다루다 보면 print를 사용 할 수도 있지만 open을 사용하는게 좋다.\n"
   ]
  },
  {
   "cell_type": "code",
   "execution_count": 9,
   "id": "86fc1dbd",
   "metadata": {},
   "outputs": [],
   "source": [
    "# 바로윗줄처럼 print해도 되지만, 아래처럼 해도 됨\n",
    "\n",
    "f = open('test.txt', 'w')\n",
    "f.write('plow deep \\nwhile sluggards sleep')\n",
    "f.close()"
   ]
  },
  {
   "cell_type": "code",
   "execution_count": 11,
   "id": "0ba08518",
   "metadata": {},
   "outputs": [
    {
     "data": {
      "text/plain": [
       "'plow deep \\nwhile sluggards sleep'"
      ]
     },
     "execution_count": 11,
     "metadata": {},
     "output_type": "execute_result"
    }
   ],
   "source": [
    "f = open('test.txt', 'r')  # r = 읽어오기\n",
    "f.read()\n",
    "f.close()  # read 와 close는 항상 세트로 동작이 되어야 함"
   ]
  },
  {
   "cell_type": "code",
   "execution_count": null,
   "id": "04e2605f",
   "metadata": {},
   "outputs": [],
   "source": []
  }
 ],
 "metadata": {
  "kernelspec": {
   "display_name": "Python 3 (ipykernel)",
   "language": "python",
   "name": "python3"
  },
  "language_info": {
   "codemirror_mode": {
    "name": "ipython",
    "version": 3
   },
   "file_extension": ".py",
   "mimetype": "text/x-python",
   "name": "python",
   "nbconvert_exporter": "python",
   "pygments_lexer": "ipython3",
   "version": "3.9.12"
  }
 },
 "nbformat": 4,
 "nbformat_minor": 5
}
