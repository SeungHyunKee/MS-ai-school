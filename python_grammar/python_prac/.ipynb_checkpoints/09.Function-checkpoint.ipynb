{
 "cells": [
  {
   "cell_type": "code",
   "execution_count": 9,
   "id": "7887da96",
   "metadata": {},
   "outputs": [],
   "source": [
    "def ReturnName():\n",
    "    print('My name is IU')"
   ]
  },
  {
   "cell_type": "code",
   "execution_count": 10,
   "id": "d90dcc43",
   "metadata": {},
   "outputs": [
    {
     "name": "stdout",
     "output_type": "stream",
     "text": [
      "My name is IU\n"
     ]
    }
   ],
   "source": [
    "ReturnName()   # 함수를 호출하는것"
   ]
  },
  {
   "cell_type": "code",
   "execution_count": 3,
   "id": "7bbc136d",
   "metadata": {},
   "outputs": [],
   "source": [
    "def ReturnName2(name):\n",
    "    print('My name is {}'.format(name))"
   ]
  },
  {
   "cell_type": "code",
   "execution_count": 4,
   "id": "8685459b",
   "metadata": {},
   "outputs": [
    {
     "name": "stdout",
     "output_type": "stream",
     "text": [
      "My name is 레드벨벳\n"
     ]
    }
   ],
   "source": [
    "ReturnName2('레드벨벳')"
   ]
  },
  {
   "cell_type": "code",
   "execution_count": 5,
   "id": "21c0a8b1",
   "metadata": {},
   "outputs": [],
   "source": [
    "def calc(a, b):\n",
    "    c = a * b\n",
    "    \n",
    "    return c\n",
    "# 여기서 프린트를 하는건 그저 값을 찍는것임\n",
    "# return은 값을 돌려주는것, 추가계산가능해짐 ? ex calc(10, 20) * 100"
   ]
  },
  {
   "cell_type": "code",
   "execution_count": 11,
   "id": "bd5ffdcf",
   "metadata": {},
   "outputs": [
    {
     "data": {
      "text/plain": [
       "200"
      ]
     },
     "execution_count": 11,
     "metadata": {},
     "output_type": "execute_result"
    }
   ],
   "source": [
    "calc(10, 20)"
   ]
  },
  {
   "cell_type": "code",
   "execution_count": 12,
   "id": "e1b57508",
   "metadata": {},
   "outputs": [
    {
     "data": {
      "text/plain": [
       "<function __main__.calc(a, b)>"
      ]
     },
     "execution_count": 12,
     "metadata": {},
     "output_type": "execute_result"
    }
   ],
   "source": [
    "calc   #어딘가에 메모리를 잡고 실행되고있음"
   ]
  },
  {
   "cell_type": "code",
   "execution_count": 8,
   "id": "9821e98e",
   "metadata": {},
   "outputs": [
    {
     "data": {
      "text/plain": [
       "2897327070944"
      ]
     },
     "execution_count": 8,
     "metadata": {},
     "output_type": "execute_result"
    }
   ],
   "source": [
    "id(calc)   # 이게 들어있는 주소를 바로 알려줌, 디버깅시 아주가끔 사용"
   ]
  }
 ],
 "metadata": {
  "kernelspec": {
   "display_name": "Python 3 (ipykernel)",
   "language": "python",
   "name": "python3"
  },
  "language_info": {
   "codemirror_mode": {
    "name": "ipython",
    "version": 3
   },
   "file_extension": ".py",
   "mimetype": "text/x-python",
   "name": "python",
   "nbconvert_exporter": "python",
   "pygments_lexer": "ipython3",
   "version": "3.9.12"
  }
 },
 "nbformat": 4,
 "nbformat_minor": 5
}
