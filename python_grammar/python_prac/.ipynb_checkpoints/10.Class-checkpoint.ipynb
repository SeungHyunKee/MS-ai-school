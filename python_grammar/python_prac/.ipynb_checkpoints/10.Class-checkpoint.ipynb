{
 "cells": [
  {
   "cell_type": "code",
   "execution_count": 1,
   "id": "df0fde24",
   "metadata": {},
   "outputs": [],
   "source": [
    "class MyClass:\n",
    "    pass   # 하나의 빈 클래스로 만들겠다는 뜻"
   ]
  },
  {
   "cell_type": "code",
   "execution_count": 2,
   "id": "415d6a63",
   "metadata": {},
   "outputs": [
    {
     "data": {
      "text/plain": [
       "__main__.MyClass"
      ]
     },
     "execution_count": 2,
     "metadata": {},
     "output_type": "execute_result"
    }
   ],
   "source": [
    "MyClass  # 하나의 객체로 되어있음을 알수있다"
   ]
  },
  {
   "cell_type": "code",
   "execution_count": 3,
   "id": "ee0b36b8",
   "metadata": {},
   "outputs": [
    {
     "data": {
      "text/plain": [
       "type"
      ]
     },
     "execution_count": 3,
     "metadata": {},
     "output_type": "execute_result"
    }
   ],
   "source": [
    "type(MyClass)"
   ]
  },
  {
   "cell_type": "code",
   "execution_count": 4,
   "id": "092f42c1",
   "metadata": {},
   "outputs": [],
   "source": [
    "## 사람의 '설계도면'을 만든는 것\n",
    "\n",
    "class Person:\n",
    "    Name = \"Default Name\"    # '속성'(Prooerty)\n",
    "    \n",
    "    def Print(self):         # print라는 '동작'을 가지고 있음\n",
    "        print('My name is {0}'.format(self.Name))\n",
    "    "
   ]
  },
  {
   "cell_type": "code",
   "execution_count": 34,
   "id": "0da433f1",
   "metadata": {},
   "outputs": [],
   "source": [
    "son = Person()"
   ]
  },
  {
   "cell_type": "code",
   "execution_count": 7,
   "id": "a8f18c1d",
   "metadata": {},
   "outputs": [
    {
     "name": "stdout",
     "output_type": "stream",
     "text": [
      "My name is 손흥민\n"
     ]
    }
   ],
   "source": [
    "son.Name = '손흥민'    \n",
    "son.Print()"
   ]
  },
  {
   "cell_type": "code",
   "execution_count": 8,
   "id": "870c80e8",
   "metadata": {},
   "outputs": [],
   "source": [
    "p1 = Person()\n",
    "p2 = Person()"
   ]
  },
  {
   "cell_type": "code",
   "execution_count": 9,
   "id": "3218717e",
   "metadata": {},
   "outputs": [],
   "source": [
    "p1.Name = '박보검'\n",
    "p2.Name = '민아'"
   ]
  },
  {
   "cell_type": "code",
   "execution_count": 10,
   "id": "e42586ff",
   "metadata": {},
   "outputs": [
    {
     "name": "stdout",
     "output_type": "stream",
     "text": [
      "My name is 박보검\n",
      "My name is 민아\n"
     ]
    }
   ],
   "source": [
    "p1.Print()\n",
    "p2.Print()"
   ]
  },
  {
   "cell_type": "markdown",
   "id": "58a0e274",
   "metadata": {},
   "source": [
    "# instance"
   ]
  },
  {
   "cell_type": "code",
   "execution_count": 11,
   "id": "9e84ffcb",
   "metadata": {},
   "outputs": [],
   "source": [
    "# instance = class로 찍어낸 객체. instance를 통해 어떤 클래스로부터 파생되었는지 알수있음\n",
    "\n",
    "Person.title = 'New title'  # Person클래스에 title 속성이 추가된것(이렇게 바로 추가할 수 있음)"
   ]
  },
  {
   "cell_type": "code",
   "execution_count": 12,
   "id": "055a724a",
   "metadata": {},
   "outputs": [
    {
     "data": {
      "text/plain": [
       "'New title'"
      ]
     },
     "execution_count": 12,
     "metadata": {},
     "output_type": "execute_result"
    }
   ],
   "source": [
    "p1.title    # 클래스에 객체추가 이후라도 (바로)속성추가하면 적용됨"
   ]
  },
  {
   "cell_type": "code",
   "execution_count": 13,
   "id": "3295deb1",
   "metadata": {},
   "outputs": [],
   "source": [
    "p1.age = 20 # 새로운속성이 추가됨, \n",
    "# 이 인스턴스(p1) 혼자만 영향을 받음(일괄성 깨지므로 안좋은방법임)"
   ]
  },
  {
   "cell_type": "code",
   "execution_count": 14,
   "id": "a0bc2c25",
   "metadata": {},
   "outputs": [
    {
     "ename": "AttributeError",
     "evalue": "type object 'Person' has no attribute 'age'",
     "output_type": "error",
     "traceback": [
      "\u001b[1;31m---------------------------------------------------------------------------\u001b[0m",
      "\u001b[1;31mAttributeError\u001b[0m                            Traceback (most recent call last)",
      "Input \u001b[1;32mIn [14]\u001b[0m, in \u001b[0;36m<cell line: 1>\u001b[1;34m()\u001b[0m\n\u001b[1;32m----> 1\u001b[0m \u001b[43mPerson\u001b[49m\u001b[38;5;241;43m.\u001b[39;49m\u001b[43mage\u001b[49m\n",
      "\u001b[1;31mAttributeError\u001b[0m: type object 'Person' has no attribute 'age'"
     ]
    }
   ],
   "source": [
    "Person.age"
   ]
  },
  {
   "cell_type": "markdown",
   "id": "1ae25e2e",
   "metadata": {},
   "source": [
    "# 클래스의 상속"
   ]
  },
  {
   "cell_type": "code",
   "execution_count": 15,
   "id": "5febf097",
   "metadata": {},
   "outputs": [],
   "source": [
    "class Person:\n",
    "    pass"
   ]
  },
  {
   "cell_type": "code",
   "execution_count": 16,
   "id": "207ab026",
   "metadata": {},
   "outputs": [],
   "source": [
    "class Bird:\n",
    "    pass"
   ]
  },
  {
   "cell_type": "code",
   "execution_count": 17,
   "id": "58fbf96a",
   "metadata": {},
   "outputs": [],
   "source": [
    "class Student(Person):   # Student는 Person에서 상속되었다\n",
    "    pass"
   ]
  },
  {
   "cell_type": "code",
   "execution_count": 18,
   "id": "398668e8",
   "metadata": {},
   "outputs": [],
   "source": [
    "p = Person()\n",
    "s = Student()"
   ]
  },
  {
   "cell_type": "code",
   "execution_count": 20,
   "id": "c249f1a1",
   "metadata": {},
   "outputs": [
    {
     "data": {
      "text/plain": [
       "True"
      ]
     },
     "execution_count": 20,
     "metadata": {},
     "output_type": "execute_result"
    }
   ],
   "source": [
    "isinstance(p, Person)   # -> p가 Person에서 나온 instance인가?"
   ]
  },
  {
   "cell_type": "code",
   "execution_count": 21,
   "id": "47ad8378",
   "metadata": {},
   "outputs": [
    {
     "data": {
      "text/plain": [
       "True"
      ]
     },
     "execution_count": 21,
     "metadata": {},
     "output_type": "execute_result"
    }
   ],
   "source": [
    "isinstance(s, Person)  # 상속받은것은 같은것으로 간주"
   ]
  },
  {
   "cell_type": "code",
   "execution_count": 22,
   "id": "091f905c",
   "metadata": {},
   "outputs": [
    {
     "data": {
      "text/plain": [
       "True"
      ]
     },
     "execution_count": 22,
     "metadata": {},
     "output_type": "execute_result"
    }
   ],
   "source": [
    "isinstance(s, object)   # object하고는 모든객체가 다 호환이된다"
   ]
  },
  {
   "cell_type": "code",
   "execution_count": 23,
   "id": "abdef3dc",
   "metadata": {},
   "outputs": [
    {
     "data": {
      "text/plain": [
       "False"
      ]
     },
     "execution_count": 23,
     "metadata": {},
     "output_type": "execute_result"
    }
   ],
   "source": [
    "isinstance(p, Bird)    # Person 이 Bird랑 관계가 있니?"
   ]
  },
  {
   "cell_type": "markdown",
   "id": "1a11f2e4",
   "metadata": {},
   "source": [
    "# 생성자, 소멸자"
   ]
  },
  {
   "cell_type": "code",
   "execution_count": 72,
   "id": "0313ba02",
   "metadata": {},
   "outputs": [],
   "source": [
    "class MyClass:\n",
    "    #생성자 (이름이 정해져있음 : __init__(self, value):)\n",
    "    def __init__(self, value):\n",
    "        self.Value = value\n",
    "        print('Class is created! Value = ', value)\n",
    "    \n",
    "    def __del__(self):\n",
    "        print('Class is deleted')"
   ]
  },
  {
   "cell_type": "code",
   "execution_count": 73,
   "id": "49b742f4",
   "metadata": {},
   "outputs": [
    {
     "name": "stdout",
     "output_type": "stream",
     "text": [
      "Class is created! Value =  10\n",
      "Class is deleted\n"
     ]
    }
   ],
   "source": [
    "m = MyClass(10)   \n",
    "# m이라는 새로운객체 호출하는것, value값 줘야됨, \n",
    "# 10을 위 생성자의 value값에 들어가서 출력됨\n"
   ]
  },
  {
   "cell_type": "code",
   "execution_count": 74,
   "id": "4c540006",
   "metadata": {},
   "outputs": [
    {
     "ename": "AttributeError",
     "evalue": "'MyClass' object has no attribute 'value'",
     "output_type": "error",
     "traceback": [
      "\u001b[1;31m---------------------------------------------------------------------------\u001b[0m",
      "\u001b[1;31mAttributeError\u001b[0m                            Traceback (most recent call last)",
      "Input \u001b[1;32mIn [74]\u001b[0m, in \u001b[0;36m<cell line: 1>\u001b[1;34m()\u001b[0m\n\u001b[1;32m----> 1\u001b[0m \u001b[43mm\u001b[49m\u001b[38;5;241;43m.\u001b[39;49m\u001b[43mvalue\u001b[49m()\n",
      "\u001b[1;31mAttributeError\u001b[0m: 'MyClass' object has no attribute 'value'"
     ]
    }
   ],
   "source": [
    "m.value   ##?"
   ]
  },
  {
   "cell_type": "code",
   "execution_count": 32,
   "id": "2e866cba",
   "metadata": {},
   "outputs": [
    {
     "name": "stdout",
     "output_type": "stream",
     "text": [
      "Class is deleted\n"
     ]
    }
   ],
   "source": [
    "del m   # 메모리상의 m이라는 오브젝트를 아예 지우는것"
   ]
  },
  {
   "cell_type": "markdown",
   "id": "033e4522",
   "metadata": {},
   "source": [
    "# 정적 메소드"
   ]
  },
  {
   "cell_type": "code",
   "execution_count": 42,
   "id": "bfc1e96a",
   "metadata": {},
   "outputs": [],
   "source": [
    "# 정적메소드 : 정적 메서드 내에서는 인스턴스/클래스 속성에 접근하거나,\n",
    "# 인스턴스/클래스 메서드를 호출하는 것이 불가능\n",
    "# 비슷한 류의 여러 유틸리티 메서드를 하나의 클래스의 묶어두고 싶을 때 정적메서드로 선언함\n",
    "\n",
    "class CounterManager:\n",
    "    insCount = 0    #클래스에서 인스턴스 만들때마다 카운트를 해서 총 몇개의 인스턴스만드는지 확인하기위함\n",
    "    \n",
    "    def __init__(self):\n",
    "        CounterManagaer.insCount += 1  # 인스턴스가 생성될때마다 1씩 insCount 증가\n",
    "        \n",
    "    def printInstanceCount():\n",
    "        print('Instance Count:', CounterManager.insCount)\n",
    "        \n",
    "        "
   ]
  },
  {
   "cell_type": "code",
   "execution_count": 43,
   "id": "e6cd55d2",
   "metadata": {},
   "outputs": [
    {
     "ename": "NameError",
     "evalue": "name 'CounterManagaer' is not defined",
     "output_type": "error",
     "traceback": [
      "\u001b[1;31m---------------------------------------------------------------------------\u001b[0m",
      "\u001b[1;31mNameError\u001b[0m                                 Traceback (most recent call last)",
      "Input \u001b[1;32mIn [43]\u001b[0m, in \u001b[0;36m<cell line: 1>\u001b[1;34m()\u001b[0m\n\u001b[1;32m----> 1\u001b[0m a, b, c \u001b[38;5;241m=\u001b[39m \u001b[43mCounterManager\u001b[49m\u001b[43m(\u001b[49m\u001b[43m)\u001b[49m, CounterManager(), CounterManager()\n",
      "Input \u001b[1;32mIn [42]\u001b[0m, in \u001b[0;36mCounterManager.__init__\u001b[1;34m(self)\u001b[0m\n\u001b[0;32m      4\u001b[0m \u001b[38;5;28;01mdef\u001b[39;00m \u001b[38;5;21m__init__\u001b[39m(\u001b[38;5;28mself\u001b[39m):\n\u001b[1;32m----> 5\u001b[0m     \u001b[43mCounterManagaer\u001b[49m\u001b[38;5;241m.\u001b[39minsCount \u001b[38;5;241m+\u001b[39m\u001b[38;5;241m=\u001b[39m \u001b[38;5;241m1\u001b[39m\n",
      "\u001b[1;31mNameError\u001b[0m: name 'CounterManagaer' is not defined"
     ]
    }
   ],
   "source": [
    "a, b, c = CounterManager(), CounterManager(), CounterManager()"
   ]
  },
  {
   "cell_type": "code",
   "execution_count": 41,
   "id": "06ed86a5",
   "metadata": {},
   "outputs": [
    {
     "name": "stdout",
     "output_type": "stream",
     "text": [
      "Instance Count: 0\n"
     ]
    }
   ],
   "source": [
    "CounterManager.printInstanceCount()"
   ]
  },
  {
   "cell_type": "code",
   "execution_count": 61,
   "id": "68e61a4d",
   "metadata": {},
   "outputs": [],
   "source": [
    "class Student(Person):\n",
    "    \n",
    "    def __init__(self, name, phone, subject, studentID):\n",
    "        self.Name = name\n",
    "        self.Phone = phone\n",
    "        self.Subject = subject\n",
    "        self.Student = studentID\n",
    "        \n",
    "    def PrintStudentID(self):\n",
    "        print(self.Student)"
   ]
  },
  {
   "cell_type": "markdown",
   "id": "91ffee69",
   "metadata": {},
   "source": [
    "# 상속의 확장"
   ]
  },
  {
   "cell_type": "code",
   "execution_count": 75,
   "id": "aaa59eae",
   "metadata": {},
   "outputs": [],
   "source": [
    "# 상속의 확장\n",
    "\n",
    "class Person:\n",
    "    def __init___(self, name, phone): \n",
    "## 클래스에서 사용되는 메소드에는 무조건 self 가 들어간다\n",
    "        self.Name = name\n",
    "        self.Phone = phone\n",
    "        \n",
    "    def PrintInfo(self):\n",
    "        print('Info(Name: {0}, Phone: {1})'.format(self.Name, self.Phone))\n",
    "        \n",
    "    def PrintPersonData(self):\n",
    "        print('Person(Name: {0}, Phone: {1})'.format(self.Name, self.Phone))\n",
    "        \n",
    "   "
   ]
  },
  {
   "cell_type": "code",
   "execution_count": 76,
   "id": "91182e57",
   "metadata": {},
   "outputs": [
    {
     "ename": "TypeError",
     "evalue": "Person() takes no arguments",
     "output_type": "error",
     "traceback": [
      "\u001b[1;31m---------------------------------------------------------------------------\u001b[0m",
      "\u001b[1;31mTypeError\u001b[0m                                 Traceback (most recent call last)",
      "Input \u001b[1;32mIn [76]\u001b[0m, in \u001b[0;36m<cell line: 1>\u001b[1;34m()\u001b[0m\n\u001b[1;32m----> 1\u001b[0m p \u001b[38;5;241m=\u001b[39m \u001b[43mPerson\u001b[49m\u001b[43m(\u001b[49m\u001b[38;5;124;43m'\u001b[39;49m\u001b[38;5;124;43mIU\u001b[39;49m\u001b[38;5;124;43m'\u001b[39;49m\u001b[43m,\u001b[49m\u001b[43m \u001b[49m\u001b[38;5;124;43m'\u001b[39;49m\u001b[38;5;124;43m010-0101-1010\u001b[39;49m\u001b[38;5;124;43m'\u001b[39;49m\u001b[43m)\u001b[49m\n\u001b[0;32m      2\u001b[0m s \u001b[38;5;241m=\u001b[39m Student(\u001b[38;5;124m'\u001b[39m\u001b[38;5;124mMinA\u001b[39m\u001b[38;5;124m'\u001b[39m,\u001b[38;5;124m'\u001b[39m\u001b[38;5;124m010-2222-3333\u001b[39m\u001b[38;5;124m'\u001b[39m, \u001b[38;5;124m'\u001b[39m\u001b[38;5;124mComputer Science\u001b[39m\u001b[38;5;124m'\u001b[39m, \u001b[38;5;124m'\u001b[39m\u001b[38;5;124m0000\u001b[39m\u001b[38;5;124m'\u001b[39m)\n",
      "\u001b[1;31mTypeError\u001b[0m: Person() takes no arguments"
     ]
    }
   ],
   "source": [
    "p = Person('IU', '010-0101-1010')\n",
    "s = Student('MinA','010-2222-3333', 'Computer Science', '0000')"
   ]
  },
  {
   "cell_type": "code",
   "execution_count": 48,
   "id": "840177b7",
   "metadata": {},
   "outputs": [
    {
     "data": {
      "text/plain": [
       "{}"
      ]
     },
     "execution_count": 48,
     "metadata": {},
     "output_type": "execute_result"
    }
   ],
   "source": [
    "p.__dict__"
   ]
  },
  {
   "cell_type": "code",
   "execution_count": 58,
   "id": "6fa16ee3",
   "metadata": {},
   "outputs": [
    {
     "ename": "AttributeError",
     "evalue": "'Student' object has no attribute 'PrintStudentID'",
     "output_type": "error",
     "traceback": [
      "\u001b[1;31m---------------------------------------------------------------------------\u001b[0m",
      "\u001b[1;31mAttributeError\u001b[0m                            Traceback (most recent call last)",
      "Input \u001b[1;32mIn [58]\u001b[0m, in \u001b[0;36m<cell line: 1>\u001b[1;34m()\u001b[0m\n\u001b[1;32m----> 1\u001b[0m \u001b[43ms\u001b[49m\u001b[38;5;241;43m.\u001b[39;49m\u001b[43mPrintStudentID\u001b[49m()\n",
      "\u001b[1;31mAttributeError\u001b[0m: 'Student' object has no attribute 'PrintStudentID'"
     ]
    }
   ],
   "source": [
    "s.PrintStudentID()\n"
   ]
  },
  {
   "cell_type": "code",
   "execution_count": 64,
   "id": "71ea8170",
   "metadata": {},
   "outputs": [
    {
     "data": {
      "text/plain": [
       "False"
      ]
     },
     "execution_count": 64,
     "metadata": {},
     "output_type": "execute_result"
    }
   ],
   "source": [
    "# 상속 관계의 확인\n",
    "\n",
    "issubclass(Student, Person)"
   ]
  },
  {
   "cell_type": "code",
   "execution_count": 65,
   "id": "06c89f62",
   "metadata": {},
   "outputs": [],
   "source": [
    "# 다중 상속\n",
    "\n",
    "class Tiger:\n",
    "    def Jump(self):\n",
    "        print('Tiger Jump!!')"
   ]
  },
  {
   "cell_type": "code",
   "execution_count": 66,
   "id": "b2641417",
   "metadata": {},
   "outputs": [],
   "source": [
    "class Lion:\n",
    "    def Bite(self):\n",
    "        print('Lion Bite')"
   ]
  },
  {
   "cell_type": "code",
   "execution_count": 67,
   "id": "04cd6a8d",
   "metadata": {},
   "outputs": [],
   "source": [
    "class Liger(Tiger, Lion):   # Tiger와 Lion의 상속을 받음\n",
    "    def Play(self):\n",
    "        print('Liger player')"
   ]
  },
  {
   "cell_type": "code",
   "execution_count": 68,
   "id": "d9eb09df",
   "metadata": {},
   "outputs": [],
   "source": [
    "l = Liger()"
   ]
  },
  {
   "cell_type": "code",
   "execution_count": 69,
   "id": "d3990d78",
   "metadata": {},
   "outputs": [
    {
     "name": "stdout",
     "output_type": "stream",
     "text": [
      "Liger player\n"
     ]
    }
   ],
   "source": [
    "l.Play()"
   ]
  },
  {
   "cell_type": "code",
   "execution_count": 70,
   "id": "25540ac6",
   "metadata": {},
   "outputs": [
    {
     "name": "stdout",
     "output_type": "stream",
     "text": [
      "Tiger Jump!!\n"
     ]
    }
   ],
   "source": [
    "l.Jump()"
   ]
  },
  {
   "cell_type": "code",
   "execution_count": 71,
   "id": "5c4b7544",
   "metadata": {},
   "outputs": [
    {
     "name": "stdout",
     "output_type": "stream",
     "text": [
      "Lion Bite\n"
     ]
    }
   ],
   "source": [
    "l.Bite()"
   ]
  }
 ],
 "metadata": {
  "kernelspec": {
   "display_name": "Python 3 (ipykernel)",
   "language": "python",
   "name": "python3"
  },
  "language_info": {
   "codemirror_mode": {
    "name": "ipython",
    "version": 3
   },
   "file_extension": ".py",
   "mimetype": "text/x-python",
   "name": "python",
   "nbconvert_exporter": "python",
   "pygments_lexer": "ipython3",
   "version": "3.9.12"
  }
 },
 "nbformat": 4,
 "nbformat_minor": 5
}
