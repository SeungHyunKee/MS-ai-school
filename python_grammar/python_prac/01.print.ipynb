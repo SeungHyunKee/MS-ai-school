{
 "cells": [
  {
   "cell_type": "code",
   "execution_count": 1,
   "id": "2b0ff8af",
   "metadata": {},
   "outputs": [
    {
     "name": "stdout",
     "output_type": "stream",
     "text": [
      "Hello world\n"
     ]
    }
   ],
   "source": [
    "print(\"Hello world\")"
   ]
  },
  {
   "cell_type": "code",
   "execution_count": 2,
   "id": "7e4cebd9",
   "metadata": {},
   "outputs": [
    {
     "name": "stdout",
     "output_type": "stream",
     "text": [
      "Hello \"안녕하세요\"\n"
     ]
    }
   ],
   "source": [
    "print('Hello \"안녕하세요\"') \n",
    "# 서로 cross만 안되면되므로 ' '와 \" \" 함께쓸수있음"
   ]
  },
  {
   "cell_type": "code",
   "execution_count": 3,
   "id": "5467d49e",
   "metadata": {},
   "outputs": [
    {
     "name": "stdout",
     "output_type": "stream",
     "text": [
      "Hello '안녕하세요'\n"
     ]
    }
   ],
   "source": [
    "print(\"Hello '안녕하세요'\")"
   ]
  },
  {
   "cell_type": "code",
   "execution_count": 5,
   "id": "360bf68e",
   "metadata": {},
   "outputs": [
    {
     "name": "stdout",
     "output_type": "stream",
     "text": [
      "안녕 하세요 반갑습니다.\n"
     ]
    }
   ],
   "source": [
    "print('안녕','하세요','반갑습니다.')\n",
    "# ,는 덧셈기능 + 스페이스 기능 있음"
   ]
  },
  {
   "cell_type": "code",
   "execution_count": 6,
   "id": "ed230f27",
   "metadata": {},
   "outputs": [
    {
     "name": "stdout",
     "output_type": "stream",
     "text": [
      "안녕하세요반갑습니다.\n"
     ]
    }
   ],
   "source": [
    "print('안녕' + '하세요' + '반갑습니다.')"
   ]
  },
  {
   "cell_type": "code",
   "execution_count": 7,
   "id": "6a0f11db",
   "metadata": {},
   "outputs": [
    {
     "name": "stdout",
     "output_type": "stream",
     "text": [
      "\n",
      "태양을 향해서라\n",
      "그리하면 너는 그림자를 볼 수 없을 것이다\n",
      "\n",
      "- 헬렌켈러\n",
      "\n",
      "\n"
     ]
    }
   ],
   "source": [
    "print(\"\"\"\n",
    "태양을 향해서라\n",
    "그리하면 너는 그림자를 볼 수 없을 것이다\n",
    "\n",
    "- 헬렌켈러\n",
    "\n",
    "\"\"\")\n",
    "# 조금많은 텍스트를 출력할때 : \"\"\" ~~ \"\"\" 세게 사용"
   ]
  },
  {
   "cell_type": "code",
   "execution_count": 8,
   "id": "ad6df6aa",
   "metadata": {},
   "outputs": [
    {
     "name": "stdout",
     "output_type": "stream",
     "text": [
      "Hello \n",
      "nice to meet you ^0^\n"
     ]
    }
   ],
   "source": [
    "print('Hello \\nnice to meet you ^0^')\n",
    "# \\n : 줄바꿈기능"
   ]
  },
  {
   "cell_type": "code",
   "execution_count": 9,
   "id": "ead8e276",
   "metadata": {},
   "outputs": [
    {
     "name": "stdout",
     "output_type": "stream",
     "text": [
      "a=123 b=안녕하세요\n"
     ]
    }
   ],
   "source": [
    "a = 123\n",
    "b = '안녕하세요'\n",
    "\n",
    "print('a={} b={}'.format(a,b))\n",
    "# {}들의 순서대로 format()의 값이 들어감\n",
    "\n",
    "print(f'a={} b={}')\n",
    "# 이렇게 앞에 f 붙여도 되긴 하지만 뒤에쓰는걸 더 선호함"
   ]
  },
  {
   "cell_type": "code",
   "execution_count": null,
   "id": "e38d75ea",
   "metadata": {},
   "outputs": [],
   "source": []
  }
 ],
 "metadata": {
  "kernelspec": {
   "display_name": "Python 3 (ipykernel)",
   "language": "python",
   "name": "python3"
  },
  "language_info": {
   "codemirror_mode": {
    "name": "ipython",
    "version": 3
   },
   "file_extension": ".py",
   "mimetype": "text/x-python",
   "name": "python",
   "nbconvert_exporter": "python",
   "pygments_lexer": "ipython3",
   "version": "3.9.12"
  }
 },
 "nbformat": 4,
 "nbformat_minor": 5
}
