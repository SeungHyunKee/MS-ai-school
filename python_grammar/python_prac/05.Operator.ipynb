{
 "cells": [
  {
   "cell_type": "code",
   "execution_count": 3,
   "id": "741e5bb4",
   "metadata": {},
   "outputs": [
    {
     "name": "stdout",
     "output_type": "stream",
     "text": [
      "30\n",
      "-10\n",
      "200\n",
      "0.5\n"
     ]
    }
   ],
   "source": [
    "print(10+20)\n",
    "print(10-20)\n",
    "print(10*20)\n",
    "print(10/20)"
   ]
  },
  {
   "cell_type": "code",
   "execution_count": 2,
   "id": "455b96f8",
   "metadata": {},
   "outputs": [
    {
     "name": "stdout",
     "output_type": "stream",
     "text": [
      "100\n",
      "1000\n",
      "10000\n"
     ]
    }
   ],
   "source": [
    "print(10**2) # 2제곱\n",
    "print(10**3) # 3제곱\n",
    "print(10**4) # 4제곱\n"
   ]
  },
  {
   "cell_type": "code",
   "execution_count": null,
   "id": "b252c745",
   "metadata": {},
   "outputs": [],
   "source": [
    "print(40//6) # 몫\n",
    "print(40%6)  # 나머지"
   ]
  },
  {
   "cell_type": "code",
   "execution_count": 6,
   "id": "48890249",
   "metadata": {},
   "outputs": [
    {
     "name": "stdout",
     "output_type": "stream",
     "text": [
      "True\n"
     ]
    }
   ],
   "source": [
    "print(True)"
   ]
  },
  {
   "cell_type": "code",
   "execution_count": null,
   "id": "36c77b8a",
   "metadata": {},
   "outputs": [],
   "source": []
  },
  {
   "cell_type": "code",
   "execution_count": null,
   "id": "bc109fb1",
   "metadata": {},
   "outputs": [],
   "source": []
  },
  {
   "cell_type": "code",
   "execution_count": 7,
   "id": "a73a4b37",
   "metadata": {},
   "outputs": [
    {
     "name": "stdout",
     "output_type": "stream",
     "text": [
      "0\n",
      "1\n",
      "1\n",
      "1\n",
      "False\n",
      "True\n",
      "True\n",
      "True\n"
     ]
    }
   ],
   "source": [
    "print(0 or 0)\n",
    "print(0 or 1)\n",
    "print(1 or 0)\n",
    "print(1 or 1)\n",
    "print(False or False)   # False나 True  쓸때는 대소문자 구분해야함\n",
    "print(False or True)\n",
    "print(True or False)\n",
    "print(True or True)"
   ]
  },
  {
   "cell_type": "code",
   "execution_count": 8,
   "id": "8f699d73",
   "metadata": {},
   "outputs": [
    {
     "name": "stdout",
     "output_type": "stream",
     "text": [
      "False\n"
     ]
    }
   ],
   "source": [
    "print(not True)"
   ]
  },
  {
   "cell_type": "code",
   "execution_count": 10,
   "id": "e2814095",
   "metadata": {},
   "outputs": [
    {
     "name": "stdout",
     "output_type": "stream",
     "text": [
      "True\n",
      "True\n",
      "True\n",
      "False\n",
      "True\n",
      "False\n"
     ]
    }
   ],
   "source": [
    "print(10==10)  # = 두개(==)는 비교연산자임(한개는 값 넣을때 씀)\n",
    "print(10>=10)\n",
    "print(10<=10)\n",
    "print(10 < 5)\n",
    "print(10 > 5)\n",
    "print(10!=10)"
   ]
  },
  {
   "cell_type": "code",
   "execution_count": 11,
   "id": "307ed2ae",
   "metadata": {},
   "outputs": [],
   "source": [
    "# in 연산자 : 특정값이 있는지 찾을때\n",
    "\n",
    "a_list = ['a', 2, 'hello', 3]"
   ]
  },
  {
   "cell_type": "code",
   "execution_count": 14,
   "id": "da3050eb",
   "metadata": {},
   "outputs": [
    {
     "name": "stdout",
     "output_type": "stream",
     "text": [
      "True\n",
      "False\n",
      "True\n"
     ]
    }
   ],
   "source": [
    "print('a' in a_list)  #리스트안에 값이 있는지 찾을때\n",
    "print(1 in a_list)\n",
    "print('hello' in a_list)"
   ]
  },
  {
   "cell_type": "code",
   "execution_count": null,
   "id": "e6f03732",
   "metadata": {},
   "outputs": [],
   "source": []
  }
 ],
 "metadata": {
  "kernelspec": {
   "display_name": "Python 3 (ipykernel)",
   "language": "python",
   "name": "python3"
  },
  "language_info": {
   "codemirror_mode": {
    "name": "ipython",
    "version": 3
   },
   "file_extension": ".py",
   "mimetype": "text/x-python",
   "name": "python",
   "nbconvert_exporter": "python",
   "pygments_lexer": "ipython3",
   "version": "3.9.12"
  }
 },
 "nbformat": 4,
 "nbformat_minor": 5
}
