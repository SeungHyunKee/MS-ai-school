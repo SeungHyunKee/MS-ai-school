{
  "nbformat": 4,
  "nbformat_minor": 0,
  "metadata": {
    "colab": {
      "provenance": [],
      "authorship_tag": "ABX9TyNVqWa9hd6RSFmUg5qAg37y",
      "include_colab_link": true
    },
    "kernelspec": {
      "name": "python3",
      "display_name": "Python 3"
    },
    "language_info": {
      "name": "python"
    }
  },
  "cells": [
    {
      "cell_type": "markdown",
      "metadata": {
        "id": "view-in-github",
        "colab_type": "text"
      },
      "source": [
        "<a href=\"https://colab.research.google.com/github/SeungHyunKee/Python/blob/main/%EC%98%81%ED%99%94_%EB%A6%AC%EB%B7%B0_%EB%B6%84%EB%A5%98_%EC%9D%B4%EC%A7%84_%EB%B6%84%EB%A5%98_%EC%98%88%EC%A0%9Csh.ipynb\" target=\"_parent\"><img src=\"https://colab.research.google.com/assets/colab-badge.svg\" alt=\"Open In Colab\"/></a>"
      ]
    },
    {
      "cell_type": "code",
      "execution_count": 1,
      "metadata": {
        "colab": {
          "base_uri": "https://localhost:8080/"
        },
        "id": "e4D0U1AB5RGR",
        "outputId": "9ceb85d3-59e8-4d7c-8fe1-81e1dd2127ad"
      },
      "outputs": [
        {
          "output_type": "stream",
          "name": "stdout",
          "text": [
            "2.9.0\n"
          ]
        }
      ],
      "source": [
        "import keras\n",
        "print(keras.__version__)  # 케라스의 버전 확인 : 2.9.0, 버전이 나왔다 = 케라스가 잘 작동하고있다"
      ]
    },
    {
      "cell_type": "code",
      "source": [
        "from keras.datasets import imdb\n",
        "(train_data, train_labels),(test_data, test_labels) = imdb.load_data(num_words=10000)  # 데이터중 자주 사용되는 만개만 사용하겟다"
      ],
      "metadata": {
        "colab": {
          "base_uri": "https://localhost:8080/"
        },
        "id": "riDafOHP5UyX",
        "outputId": "913344fe-be47-434d-e4b9-f5bd2243ad6d"
      },
      "execution_count": 2,
      "outputs": [
        {
          "output_type": "stream",
          "name": "stdout",
          "text": [
            "Downloading data from https://storage.googleapis.com/tensorflow/tf-keras-datasets/imdb.npz\n",
            "17464789/17464789 [==============================] - 0s 0us/step\n"
          ]
        }
      ]
    },
    {
      "cell_type": "code",
      "source": [
        "train_data.shape  # 데이터의 구조 확인 : 25000개의 값이 1차원데이터로 있음을 알수있다"
      ],
      "metadata": {
        "colab": {
          "base_uri": "https://localhost:8080/"
        },
        "id": "ELu7djki9GX1",
        "outputId": "4b4dc74a-f0d0-49d0-9c95-24c4970425ac"
      },
      "execution_count": 3,
      "outputs": [
        {
          "output_type": "execute_result",
          "data": {
            "text/plain": [
              "(25000,)"
            ]
          },
          "metadata": {},
          "execution_count": 3
        }
      ]
    },
    {
      "cell_type": "code",
      "source": [
        "train_data[0] "
      ],
      "metadata": {
        "colab": {
          "base_uri": "https://localhost:8080/"
        },
        "id": "UxRLXj5W8CeN",
        "outputId": "184a8b6d-807c-4327-f0d3-4f113a967217"
      },
      "execution_count": 4,
      "outputs": [
        {
          "output_type": "execute_result",
          "data": {
            "text/plain": [
              "[1,\n",
              " 14,\n",
              " 22,\n",
              " 16,\n",
              " 43,\n",
              " 530,\n",
              " 973,\n",
              " 1622,\n",
              " 1385,\n",
              " 65,\n",
              " 458,\n",
              " 4468,\n",
              " 66,\n",
              " 3941,\n",
              " 4,\n",
              " 173,\n",
              " 36,\n",
              " 256,\n",
              " 5,\n",
              " 25,\n",
              " 100,\n",
              " 43,\n",
              " 838,\n",
              " 112,\n",
              " 50,\n",
              " 670,\n",
              " 2,\n",
              " 9,\n",
              " 35,\n",
              " 480,\n",
              " 284,\n",
              " 5,\n",
              " 150,\n",
              " 4,\n",
              " 172,\n",
              " 112,\n",
              " 167,\n",
              " 2,\n",
              " 336,\n",
              " 385,\n",
              " 39,\n",
              " 4,\n",
              " 172,\n",
              " 4536,\n",
              " 1111,\n",
              " 17,\n",
              " 546,\n",
              " 38,\n",
              " 13,\n",
              " 447,\n",
              " 4,\n",
              " 192,\n",
              " 50,\n",
              " 16,\n",
              " 6,\n",
              " 147,\n",
              " 2025,\n",
              " 19,\n",
              " 14,\n",
              " 22,\n",
              " 4,\n",
              " 1920,\n",
              " 4613,\n",
              " 469,\n",
              " 4,\n",
              " 22,\n",
              " 71,\n",
              " 87,\n",
              " 12,\n",
              " 16,\n",
              " 43,\n",
              " 530,\n",
              " 38,\n",
              " 76,\n",
              " 15,\n",
              " 13,\n",
              " 1247,\n",
              " 4,\n",
              " 22,\n",
              " 17,\n",
              " 515,\n",
              " 17,\n",
              " 12,\n",
              " 16,\n",
              " 626,\n",
              " 18,\n",
              " 2,\n",
              " 5,\n",
              " 62,\n",
              " 386,\n",
              " 12,\n",
              " 8,\n",
              " 316,\n",
              " 8,\n",
              " 106,\n",
              " 5,\n",
              " 4,\n",
              " 2223,\n",
              " 5244,\n",
              " 16,\n",
              " 480,\n",
              " 66,\n",
              " 3785,\n",
              " 33,\n",
              " 4,\n",
              " 130,\n",
              " 12,\n",
              " 16,\n",
              " 38,\n",
              " 619,\n",
              " 5,\n",
              " 25,\n",
              " 124,\n",
              " 51,\n",
              " 36,\n",
              " 135,\n",
              " 48,\n",
              " 25,\n",
              " 1415,\n",
              " 33,\n",
              " 6,\n",
              " 22,\n",
              " 12,\n",
              " 215,\n",
              " 28,\n",
              " 77,\n",
              " 52,\n",
              " 5,\n",
              " 14,\n",
              " 407,\n",
              " 16,\n",
              " 82,\n",
              " 2,\n",
              " 8,\n",
              " 4,\n",
              " 107,\n",
              " 117,\n",
              " 5952,\n",
              " 15,\n",
              " 256,\n",
              " 4,\n",
              " 2,\n",
              " 7,\n",
              " 3766,\n",
              " 5,\n",
              " 723,\n",
              " 36,\n",
              " 71,\n",
              " 43,\n",
              " 530,\n",
              " 476,\n",
              " 26,\n",
              " 400,\n",
              " 317,\n",
              " 46,\n",
              " 7,\n",
              " 4,\n",
              " 2,\n",
              " 1029,\n",
              " 13,\n",
              " 104,\n",
              " 88,\n",
              " 4,\n",
              " 381,\n",
              " 15,\n",
              " 297,\n",
              " 98,\n",
              " 32,\n",
              " 2071,\n",
              " 56,\n",
              " 26,\n",
              " 141,\n",
              " 6,\n",
              " 194,\n",
              " 7486,\n",
              " 18,\n",
              " 4,\n",
              " 226,\n",
              " 22,\n",
              " 21,\n",
              " 134,\n",
              " 476,\n",
              " 26,\n",
              " 480,\n",
              " 5,\n",
              " 144,\n",
              " 30,\n",
              " 5535,\n",
              " 18,\n",
              " 51,\n",
              " 36,\n",
              " 28,\n",
              " 224,\n",
              " 92,\n",
              " 25,\n",
              " 104,\n",
              " 4,\n",
              " 226,\n",
              " 65,\n",
              " 16,\n",
              " 38,\n",
              " 1334,\n",
              " 88,\n",
              " 12,\n",
              " 16,\n",
              " 283,\n",
              " 5,\n",
              " 16,\n",
              " 4472,\n",
              " 113,\n",
              " 103,\n",
              " 32,\n",
              " 15,\n",
              " 16,\n",
              " 5345,\n",
              " 19,\n",
              " 178,\n",
              " 32]"
            ]
          },
          "metadata": {},
          "execution_count": 4
        }
      ]
    },
    {
      "cell_type": "code",
      "source": [
        "train_labels[0]    # 1이 나왔으므로 긍정값"
      ],
      "metadata": {
        "colab": {
          "base_uri": "https://localhost:8080/"
        },
        "id": "8-LfsUnm8DDB",
        "outputId": "55f599e6-d70f-4349-c666-781d59902f6f"
      },
      "execution_count": 5,
      "outputs": [
        {
          "output_type": "execute_result",
          "data": {
            "text/plain": [
              "1"
            ]
          },
          "metadata": {},
          "execution_count": 5
        }
      ]
    },
    {
      "cell_type": "code",
      "source": [
        "# 무조건 결과는 0 아님 1이므로 이진분류예제이다 -> sigmoid함수 사용\n",
        "\n",
        "word_index = imdb.get_word_index()  # index = list type으로 되어있다\n",
        "word_index.items()\n",
        "reverse_word_index = dict([value, key] for (key, value) in word_index.items())  "
      ],
      "metadata": {
        "colab": {
          "base_uri": "https://localhost:8080/"
        },
        "id": "TWb5t0vO8HR4",
        "outputId": "a1554d4d-4725-45ed-bc3d-90f29180aac8"
      },
      "execution_count": 6,
      "outputs": [
        {
          "output_type": "stream",
          "name": "stdout",
          "text": [
            "Downloading data from https://storage.googleapis.com/tensorflow/tf-keras-datasets/imdb_word_index.json\n",
            "1641221/1641221 [==============================] - 0s 0us/step\n"
          ]
        }
      ]
    },
    {
      "cell_type": "code",
      "source": [
        "# 디코딩 하기\n",
        "# 숫자로 되어있는걸 문자로 변환해서 보는것\n",
        "decoded_review = ' '.join([reverse_word_index.get(i-3,'?') for i in train_data[0]])\n",
        "# i-3 = 0,1,2값은 특수문자로 쓰여있기 때문에 이렇게 써줌, \n",
        "# 특수문자는 표현안되기 때문에 아예 음수값으로 만들어줌. \n",
        "# 없는문자(0,1,2, 즉 음수값)는 ? 로 치환해준다는 뜻\n",
        "\n",
        "# 0번에있는 젤 첫번째 데이터만 뒤집어봄\n",
        "decoded_review"
      ],
      "metadata": {
        "colab": {
          "base_uri": "https://localhost:8080/",
          "height": 198
        },
        "id": "cxev7NU38I_5",
        "outputId": "0b48fc8d-1baf-49f4-fbc7-c6d70fe4868b"
      },
      "execution_count": 7,
      "outputs": [
        {
          "output_type": "execute_result",
          "data": {
            "text/plain": [
              "\"? this film was just brilliant casting location scenery story direction everyone's really suited the part they played and you could just imagine being there robert ? is an amazing actor and now the same being director ? father came from the same scottish island as myself so i loved the fact there was a real connection with this film the witty remarks throughout the film were great it was just brilliant so much that i bought the film as soon as it was released for ? and would recommend it to everyone to watch and the fly fishing was amazing really cried at the end it was so sad and you know what they say if you cry at a film it must have been good and this definitely was also ? to the two little boy's that played the ? of norman and paul they were just brilliant children are often left out of the ? list i think because the stars that play them all grown up are such a big profile for the whole film but these children are amazing and should be praised for what they have done don't you think the whole story was so lovely because it was true and was someone's life after all that was shared with us all\""
            ],
            "application/vnd.google.colaboratory.intrinsic+json": {
              "type": "string"
            }
          },
          "metadata": {},
          "execution_count": 7
        }
      ]
    },
    {
      "cell_type": "code",
      "source": [
        "type(reverse_word_index)"
      ],
      "metadata": {
        "colab": {
          "base_uri": "https://localhost:8080/"
        },
        "id": "zwg-9j2iQDwb",
        "outputId": "d4d4e15f-df4b-4559-fa1d-62bdc5480b68"
      },
      "execution_count": 8,
      "outputs": [
        {
          "output_type": "execute_result",
          "data": {
            "text/plain": [
              "dict"
            ]
          },
          "metadata": {},
          "execution_count": 8
        }
      ]
    },
    {
      "cell_type": "code",
      "source": [
        "# one hot encoding\n",
        "# - 방법 :  배열을 만든다 -> 전부 0으로 채워넣고 -> 해당값만 1로 치환시킴\n",
        "\n",
        "# 데이터를 준비\n",
        "import numpy as np\n",
        "\n",
        "def vectorize_sequences(sequences, dimension=10000):   # 디폴트값을 10000 으로 설정해준것\n",
        "# sequences 에는 문자 25000개가 들어옴\n",
        "\n",
        "  results = np.zeros((len(sequences),dimension))  # 배열 만들고 0으로 채워주기\n",
        "  # len(sequences) = 25000, dimension = 10000  -> (세로)25000 * (가로)10000 배열이 생성됨\n",
        "\n",
        "  for i, sequence in enumerate(sequences):  # enumerate =  index 만들때 사용될수있음(아래 예제 참고)\n",
        "    results[i, sequence] = 1   # 해당 단어가 있는 자리에 1을 넣음\n",
        "\n",
        "  return results\n",
        "\n",
        "# Data 의 encoding\n",
        "x_train = vectorize_sequences(train_data)\n",
        "x_test = vectorize_sequences(test_data)\n"
      ],
      "metadata": {
        "id": "7ffSPe1u8KvR"
      },
      "execution_count": 9,
      "outputs": []
    },
    {
      "cell_type": "code",
      "source": [
        "# enumerate 예제\n",
        "\n",
        "for i, c in enumerate(['A', 'B', 'C']):  # index번호는 i에, ABC 값은 c 에 들어감\n",
        "  print(i, c)\n",
        "\n",
        "for i, c in enumerate(['A', 'B', 'C'], start = 1 ):  # 1부터 시작하고싶을때\n",
        " print(i, c)"
      ],
      "metadata": {
        "colab": {
          "base_uri": "https://localhost:8080/"
        },
        "id": "HUiHvTdwTRB3",
        "outputId": "3d61c64b-cc22-43e9-f4ac-a900ee6cb76f"
      },
      "execution_count": 10,
      "outputs": [
        {
          "output_type": "stream",
          "name": "stdout",
          "text": [
            "0 A\n",
            "1 B\n",
            "2 C\n",
            "1 A\n",
            "2 B\n",
            "3 C\n"
          ]
        }
      ]
    },
    {
      "cell_type": "code",
      "source": [
        "# enumerate 예제\n",
        "\n",
        "temp =  enumerate(['A', 'B', 'C'])\n",
        "type(temp)  # -> 결과 : enumerate\n",
        "list(temp)  # -> 결과 : 리스트로 변형됨 -- [(0, 'A'), (1, 'B'), (2, 'C')] 튜플형태"
      ],
      "metadata": {
        "colab": {
          "base_uri": "https://localhost:8080/"
        },
        "id": "2NSKq-rlT8h-",
        "outputId": "48733ad9-0f71-4e4f-fbe7-e381cf497853"
      },
      "execution_count": 11,
      "outputs": [
        {
          "output_type": "execute_result",
          "data": {
            "text/plain": [
              "[(0, 'A'), (1, 'B'), (2, 'C')]"
            ]
          },
          "metadata": {},
          "execution_count": 11
        }
      ]
    },
    {
      "cell_type": "code",
      "source": [
        "print(x_train[0])"
      ],
      "metadata": {
        "colab": {
          "base_uri": "https://localhost:8080/"
        },
        "id": "wdfD-N478O-a",
        "outputId": "32033e36-cd56-48ba-ed45-e5e67660b8a8"
      },
      "execution_count": 12,
      "outputs": [
        {
          "output_type": "stream",
          "name": "stdout",
          "text": [
            "[0. 1. 1. ... 0. 0. 0.]\n"
          ]
        }
      ]
    },
    {
      "cell_type": "code",
      "source": [
        "# float type으로 변환 (방향은 정수형은 표현불가능하므로 실수로 모두 변환을 해줘야함)\n",
        "# 라벨들을 모두 float 타입으로 변환해준다\n",
        "\n",
        "y_train = np.asarray(train_labels).astype('float32')\n",
        "y_test = np.asarray(test_labels).astype('float32')"
      ],
      "metadata": {
        "id": "VYPQ2JYo8Qm6"
      },
      "execution_count": 13,
      "outputs": []
    },
    {
      "cell_type": "code",
      "source": [
        "# 신경망의 구축\n",
        "# unit = 세포의 개수(그림에서) - 출력하는 세포 = 1개 (출력값이 1개만 나오므로)\n",
        "\n",
        "from keras import models\n",
        "from keras import layers\n",
        "\n",
        "# 망을 구성하기\n",
        "# model / network 두가지이름이 가장 많이 쓰임. 여기선 models 사용\n",
        "model = models.Sequential() \n",
        "\n",
        "# 첫번째 신경망 추가\n",
        "model.add(layers.Dense(16, activation='relu', input_shape=(10000,)))  # 1000개 짜리 데이터가 신경망에 쏟아져들어옴\n",
        "\n",
        "# 두번째 신경망 추가\n",
        "model.add(layers.Dense(16, activation='relu'))\n",
        "\n",
        "# 마지막 신경망\n",
        "model.add(layers.Dense(1, activation='sigmoid'))  # 출력의 결과를 분명하게 보이게 하기위해 sigmoid 함수 사용"
      ],
      "metadata": {
        "id": "vG-wcOuG8TjZ"
      },
      "execution_count": 24,
      "outputs": []
    },
    {
      "cell_type": "code",
      "source": [
        "# 모델 컴파일하기\n",
        "\n",
        "from tensorflow.keras import optimizers\n",
        "model.compile(optimizer=optimizers.RMSprop(lr=0.001),   # RMSprop(lr=0.001) : 제약 걸어주는것\n",
        "              loss='binary_crossentropy',  # 이진분류 문제이므로 loss 손실함수 사용 \n",
        "              metrics=['accuracy'])"
      ],
      "metadata": {
        "colab": {
          "base_uri": "https://localhost:8080/"
        },
        "id": "W69oSK0m8UM6",
        "outputId": "d44d64bf-e82e-4349-dbf5-fd102703af04"
      },
      "execution_count": 25,
      "outputs": [
        {
          "output_type": "stream",
          "name": "stderr",
          "text": [
            "/usr/local/lib/python3.7/dist-packages/keras/optimizers/optimizer_v2/rmsprop.py:135: UserWarning: The `lr` argument is deprecated, use `learning_rate` instead.\n",
            "  super(RMSprop, self).__init__(name, **kwargs)\n"
          ]
        }
      ]
    },
    {
      "cell_type": "code",
      "source": [
        "# 데이터 조금더 쪼개보기\n",
        "\n",
        "x_val = x_train[:10000]  # 테스트용 데이터 25000개 중, 앞부분의 10000개 가져옴\n",
        "partial_x_train = x_train[10000:]  # 조각 partial이라고 이름지어줌\n",
        "\n",
        "y_val = y_train[:10000]  # 라벨데이터도 10000개 가지고옴\n",
        "partial_y_train = y_train[10000:]  \n",
        "\n",
        "# 총 25000 * 10000 개의 학습데이터중, x_val 처음부터10000개, 그리고 partial_x_train 에 나머지 값들(15000개) 로 쪼개놓음\n",
        "# 이렇게하는이유 : 학습(150000개)과 동시에 10000개의 검증용 데이터(x_val)로 검증을 하기 위함 -> 그다음 test 데이터 투입해서 한번더 검증함\n",
        "# == 데이터셋이 validation, train, test 3가지로 나눠지는게 가상 이상적, 잘한것임"
      ],
      "metadata": {
        "id": "Xm_pmhwj8VZJ"
      },
      "execution_count": 16,
      "outputs": []
    },
    {
      "cell_type": "code",
      "source": [
        "history = model.fit(partial_x_train, # 학습용데이터\n",
        "                    partial_y_train,            # 학습용라벨\n",
        "                    epochs=20,                # 20번 반복\n",
        "                    batch_size=512,\n",
        "                    validation_data=(x_val, y_val))\n",
        "\n",
        "# 처음 accuracy = 0.7 / 두번째부터~ : 0.9\n",
        "# val_loss : 처음엔 작음 / 점점 커짐\n",
        "# val_accuracy :  3번째가 가장 훌륭한 결과 나옴"
      ],
      "metadata": {
        "colab": {
          "base_uri": "https://localhost:8080/"
        },
        "id": "IpZOiJcR8XdB",
        "outputId": "c9410cb7-e590-47b3-e57b-db298d6e709a"
      },
      "execution_count": 17,
      "outputs": [
        {
          "output_type": "stream",
          "name": "stdout",
          "text": [
            "Epoch 1/20\n",
            "30/30 [==============================] - 3s 58ms/step - loss: 0.5070 - accuracy: 0.7941 - val_loss: 0.3854 - val_accuracy: 0.8699\n",
            "Epoch 2/20\n",
            "30/30 [==============================] - 1s 48ms/step - loss: 0.3075 - accuracy: 0.9027 - val_loss: 0.3168 - val_accuracy: 0.8780\n",
            "Epoch 3/20\n",
            "30/30 [==============================] - 1s 44ms/step - loss: 0.2268 - accuracy: 0.9249 - val_loss: 0.2791 - val_accuracy: 0.8912\n",
            "Epoch 4/20\n",
            "30/30 [==============================] - 1s 37ms/step - loss: 0.1735 - accuracy: 0.9424 - val_loss: 0.2913 - val_accuracy: 0.8847\n",
            "Epoch 5/20\n",
            "30/30 [==============================] - 1s 37ms/step - loss: 0.1390 - accuracy: 0.9533 - val_loss: 0.3227 - val_accuracy: 0.8755\n",
            "Epoch 6/20\n",
            "30/30 [==============================] - 1s 38ms/step - loss: 0.1113 - accuracy: 0.9653 - val_loss: 0.2984 - val_accuracy: 0.8863\n",
            "Epoch 7/20\n",
            "30/30 [==============================] - 1s 38ms/step - loss: 0.0947 - accuracy: 0.9705 - val_loss: 0.3266 - val_accuracy: 0.8780\n",
            "Epoch 8/20\n",
            "30/30 [==============================] - 1s 37ms/step - loss: 0.0771 - accuracy: 0.9778 - val_loss: 0.3471 - val_accuracy: 0.8773\n",
            "Epoch 9/20\n",
            "30/30 [==============================] - 1s 38ms/step - loss: 0.0662 - accuracy: 0.9815 - val_loss: 0.3692 - val_accuracy: 0.8780\n",
            "Epoch 10/20\n",
            "30/30 [==============================] - 1s 38ms/step - loss: 0.0487 - accuracy: 0.9890 - val_loss: 0.3980 - val_accuracy: 0.8764\n",
            "Epoch 11/20\n",
            "30/30 [==============================] - 1s 38ms/step - loss: 0.0433 - accuracy: 0.9897 - val_loss: 0.4217 - val_accuracy: 0.8724\n",
            "Epoch 12/20\n",
            "30/30 [==============================] - 1s 37ms/step - loss: 0.0329 - accuracy: 0.9937 - val_loss: 0.4453 - val_accuracy: 0.8730\n",
            "Epoch 13/20\n",
            "30/30 [==============================] - 1s 37ms/step - loss: 0.0253 - accuracy: 0.9959 - val_loss: 0.4752 - val_accuracy: 0.8738\n",
            "Epoch 14/20\n",
            "30/30 [==============================] - 1s 38ms/step - loss: 0.0227 - accuracy: 0.9953 - val_loss: 0.5076 - val_accuracy: 0.8706\n",
            "Epoch 15/20\n",
            "30/30 [==============================] - 2s 71ms/step - loss: 0.0164 - accuracy: 0.9979 - val_loss: 0.5426 - val_accuracy: 0.8686\n",
            "Epoch 16/20\n",
            "30/30 [==============================] - 2s 78ms/step - loss: 0.0152 - accuracy: 0.9968 - val_loss: 0.5698 - val_accuracy: 0.8693\n",
            "Epoch 17/20\n",
            "30/30 [==============================] - 1s 38ms/step - loss: 0.0090 - accuracy: 0.9995 - val_loss: 0.6634 - val_accuracy: 0.8585\n",
            "Epoch 18/20\n",
            "30/30 [==============================] - 1s 40ms/step - loss: 0.0106 - accuracy: 0.9981 - val_loss: 0.6364 - val_accuracy: 0.8678\n",
            "Epoch 19/20\n",
            "30/30 [==============================] - 3s 85ms/step - loss: 0.0045 - accuracy: 0.9999 - val_loss: 0.6912 - val_accuracy: 0.8628\n",
            "Epoch 20/20\n",
            "30/30 [==============================] - 2s 72ms/step - loss: 0.0067 - accuracy: 0.9988 - val_loss: 0.7076 - val_accuracy: 0.8665\n"
          ]
        }
      ]
    },
    {
      "cell_type": "code",
      "source": [
        "# 실험 결과 데이터를 가져온다. 시각적으로 표현하기\n",
        "\n",
        "acc = history.history['accuracy']    # 점점 좋아짐\n",
        "val_acc = history.history['val_accuracy']  \n",
        "loss = history.history['loss']\n",
        "val_loss = history.history['val_loss']\n",
        "# 반복횟수 가지고옴\n",
        "epochs = range(1, len(acc)+1)   # 1부터 시작 ~ 전체데이터개수 + 1"
      ],
      "metadata": {
        "id": "cXC8rKA78Yrx"
      },
      "execution_count": 20,
      "outputs": []
    },
    {
      "cell_type": "code",
      "source": [
        "# 실험 결과를 시각화 한다. \n",
        "import matplotlib.pyplot as plt\n",
        "\n",
        "plt.plot(epochs, loss, 'bo', label='Training Loss') # y축에 소실값넣음, 학습정확도\n",
        "# 그래프보면 epochs 증가할수록 loss감소하는데, 이는 해당 데이터에서만 좋은 결과값임.\n",
        "\n",
        "plt.plot(epochs, val_loss,'b-', label='Validation Loss') # 검증정확도 를 보는게 중요!\n",
        "plt.title('Training and validation loss')\n",
        "plt.xlabel('Epochs') # 반복횟수\n",
        "plt.ylabel('Loss') # 손실값\n",
        "plt.legend() # 각주가 보이게 하기위함"
      ],
      "metadata": {
        "colab": {
          "base_uri": "https://localhost:8080/",
          "height": 313
        },
        "id": "ftz9UFip8eGt",
        "outputId": "2f52278e-b898-420e-cc6c-49c1c75d2f0a"
      },
      "execution_count": 22,
      "outputs": [
        {
          "output_type": "execute_result",
          "data": {
            "text/plain": [
              "<matplotlib.legend.Legend at 0x7fe9abd49110>"
            ]
          },
          "metadata": {},
          "execution_count": 22
        },
        {
          "output_type": "display_data",
          "data": {
            "text/plain": [
              "<Figure size 432x288 with 1 Axes>"
            ],
            "image/png": "[encoded data removed]"
          },
          "metadata": {
            "needs_background": "light"
          }
        }
      ]
    },
    {
      "cell_type": "code",
      "source": [
        "plt.plot(epochs, acc, 'bo', label='Training acc')\n",
        "plt.plot(epochs, val_acc, 'b-', label='Validation acc')\n",
        "plt.title('Training and validation accuracy')\n",
        "plt.xlabel('Epochs')\n",
        "plt.ylabel('Accuracy')\n",
        "plt.legend()\n",
        "\n",
        "# 아래는 정확도를 기준으로 보는 차트 \n",
        "#  2.8 정도 (3번째)정도가 가장 값 잘나온다 = 3번만 epochs 돌리기"
      ],
      "metadata": {
        "colab": {
          "base_uri": "https://localhost:8080/",
          "height": 313
        },
        "id": "40_YCXMp8f4R",
        "outputId": "b656af06-f792-49bf-df51-03b2f03fb884"
      },
      "execution_count": 23,
      "outputs": [
        {
          "output_type": "execute_result",
          "data": {
            "text/plain": [
              "<matplotlib.legend.Legend at 0x7fe9addaccd0>"
            ]
          },
          "metadata": {},
          "execution_count": 23
        },
        {
          "output_type": "display_data",
          "data": {
            "text/plain": [
              "<Figure size 432x288 with 1 Axes>"
            ],
            "image/png": "[encoded data removed]"
          },
          "metadata": {
            "needs_background": "light"
          }
        }
      ]
    },
    {
      "cell_type": "code",
      "source": [
        "history = model.fit(partial_x_train,\n",
        "                    partial_y_train,\n",
        "                    epochs=3,\n",
        "                    batch_size=256,\n",
        "                    validation_data=(x_val, y_val))"
      ],
      "metadata": {
        "id": "XMhtS_JC8gZj"
      },
      "execution_count": null,
      "outputs": []
    }
  ]
}